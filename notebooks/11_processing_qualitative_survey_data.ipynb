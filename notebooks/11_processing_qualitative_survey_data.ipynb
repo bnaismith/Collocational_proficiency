{
 "cells": [
  {
   "cell_type": "markdown",
   "metadata": {},
   "source": [
    "# Processing qualitative survey data\n",
    "\n",
    "<br>\n",
    "\n",
    "**Language: Python**\n",
    "\n",
    "This notebook shows the process used for cleaning the qualitative data from the Qualtrics survey (rationales for ratings) for future analysis. Prior to being analyzed in this notebook, the comments were manually annotated with tags (see dissertation section 6.2.4 for this details of this scheme).\n",
    "\n",
    "**Notebook contents:**\n",
    "- [Initial setup](#Initial-setup)\n",
    "- [Data processing](#Data-processing)\n",
    "- [Data analysis](#Data-analysis)"
   ]
  },
  {
   "cell_type": "markdown",
   "metadata": {},
   "source": [
    "## Initial setup"
   ]
  },
  {
   "cell_type": "code",
   "execution_count": 1,
   "metadata": {},
   "outputs": [],
   "source": [
    "# Import necessary modules\n",
    "\n",
    "import pandas as pd\n",
    "import pprint\n",
    "from IPython.core.interactiveshell import InteractiveShell\n",
    "import joblib\n",
    "import csv\n",
    "import collections"
   ]
  },
  {
   "cell_type": "code",
   "execution_count": 2,
   "metadata": {},
   "outputs": [],
   "source": [
    "# Set preferred notebook format\n",
    "\n",
    "InteractiveShell.ast_node_interactivity = \"all\" # Show all output, not just last item\n",
    "pd.set_option('display.max_columns', 999) # Allow viewing of all columns"
   ]
  },
  {
   "cell_type": "code",
   "execution_count": 3,
   "metadata": {},
   "outputs": [
    {
     "data": {
      "text/html": [
       "<div>\n",
       "<style scoped>\n",
       "    .dataframe tbody tr th:only-of-type {\n",
       "        vertical-align: middle;\n",
       "    }\n",
       "\n",
       "    .dataframe tbody tr th {\n",
       "        vertical-align: top;\n",
       "    }\n",
       "\n",
       "    .dataframe thead th {\n",
       "        text-align: right;\n",
       "    }\n",
       "</style>\n",
       "<table border=\"1\" class=\"dataframe\">\n",
       "  <thead>\n",
       "    <tr style=\"text-align: right;\">\n",
       "      <th></th>\n",
       "      <th>text_id</th>\n",
       "      <th>rater_id</th>\n",
       "      <th>CEFR</th>\n",
       "      <th>soph</th>\n",
       "      <th>binary_soph</th>\n",
       "      <th>soph_type</th>\n",
       "      <th>accuracy</th>\n",
       "      <th>tags</th>\n",
       "    </tr>\n",
       "  </thead>\n",
       "  <tbody>\n",
       "    <tr>\n",
       "      <th>0</th>\n",
       "      <td>1</td>\n",
       "      <td>R1</td>\n",
       "      <td>B1</td>\n",
       "      <td>low</td>\n",
       "      <td>low</td>\n",
       "      <td>mix</td>\n",
       "      <td>low</td>\n",
       "      <td>accuracy; error_severity; sophistication; dive...</td>\n",
       "    </tr>\n",
       "    <tr>\n",
       "      <th>1</th>\n",
       "      <td>1</td>\n",
       "      <td>R11</td>\n",
       "      <td>B1</td>\n",
       "      <td>low</td>\n",
       "      <td>low</td>\n",
       "      <td>mix</td>\n",
       "      <td>low</td>\n",
       "      <td>preposition; spelling; accuracy; sophisticatio...</td>\n",
       "    </tr>\n",
       "    <tr>\n",
       "      <th>2</th>\n",
       "      <td>1</td>\n",
       "      <td>R19</td>\n",
       "      <td>B1</td>\n",
       "      <td>low</td>\n",
       "      <td>low</td>\n",
       "      <td>mix</td>\n",
       "      <td>low</td>\n",
       "      <td>NaN</td>\n",
       "    </tr>\n",
       "    <tr>\n",
       "      <th>3</th>\n",
       "      <td>1</td>\n",
       "      <td>R40</td>\n",
       "      <td>B1</td>\n",
       "      <td>low</td>\n",
       "      <td>low</td>\n",
       "      <td>mix</td>\n",
       "      <td>low</td>\n",
       "      <td>word_formation; diversity</td>\n",
       "    </tr>\n",
       "    <tr>\n",
       "      <th>4</th>\n",
       "      <td>2</td>\n",
       "      <td>R6</td>\n",
       "      <td>B1</td>\n",
       "      <td>low</td>\n",
       "      <td>low</td>\n",
       "      <td>mix</td>\n",
       "      <td>high</td>\n",
       "      <td>collocation_accuracy; spelling; sophistication...</td>\n",
       "    </tr>\n",
       "  </tbody>\n",
       "</table>\n",
       "</div>"
      ],
      "text/plain": [
       "   text_id rater_id CEFR soph binary_soph soph_type accuracy  \\\n",
       "0        1       R1   B1  low         low       mix      low   \n",
       "1        1      R11   B1  low         low       mix      low   \n",
       "2        1      R19   B1  low         low       mix      low   \n",
       "3        1      R40   B1  low         low       mix      low   \n",
       "4        2       R6   B1  low         low       mix     high   \n",
       "\n",
       "                                                tags  \n",
       "0  accuracy; error_severity; sophistication; dive...  \n",
       "1  preposition; spelling; accuracy; sophisticatio...  \n",
       "2                                                NaN  \n",
       "3                          word_formation; diversity  \n",
       "4  collocation_accuracy; spelling; sophistication...  "
      ]
     },
     "execution_count": 3,
     "metadata": {},
     "output_type": "execute_result"
    }
   ],
   "source": [
    "# Read in survey with annotations\n",
    "\n",
    "comments = pd.read_csv('../docs/survey_annotated_comments.csv')\n",
    "comments.head()"
   ]
  },
  {
   "cell_type": "markdown",
   "metadata": {},
   "source": [
    "## Data processing"
   ]
  },
  {
   "cell_type": "code",
   "execution_count": 4,
   "metadata": {},
   "outputs": [
    {
     "data": {
      "text/plain": [
       "121"
      ]
     },
     "execution_count": 4,
     "metadata": {},
     "output_type": "execute_result"
    },
    {
     "data": {
      "text/plain": [
       "110"
      ]
     },
     "execution_count": 4,
     "metadata": {},
     "output_type": "execute_result"
    }
   ],
   "source": [
    "# Remove NaN rows and reset index\n",
    "\n",
    "len(comments)\n",
    "comments = comments.loc[comments.tags.isna() == False]\n",
    "comments = comments.reset_index(drop=True)\n",
    "len(comments)"
   ]
  },
  {
   "cell_type": "code",
   "execution_count": 5,
   "metadata": {},
   "outputs": [
    {
     "data": {
      "text/html": [
       "<div>\n",
       "<style scoped>\n",
       "    .dataframe tbody tr th:only-of-type {\n",
       "        vertical-align: middle;\n",
       "    }\n",
       "\n",
       "    .dataframe tbody tr th {\n",
       "        vertical-align: top;\n",
       "    }\n",
       "\n",
       "    .dataframe thead th {\n",
       "        text-align: right;\n",
       "    }\n",
       "</style>\n",
       "<table border=\"1\" class=\"dataframe\">\n",
       "  <thead>\n",
       "    <tr style=\"text-align: right;\">\n",
       "      <th></th>\n",
       "      <th>text_id</th>\n",
       "      <th>rater_id</th>\n",
       "      <th>CEFR</th>\n",
       "      <th>soph</th>\n",
       "      <th>binary_soph</th>\n",
       "      <th>soph_type</th>\n",
       "      <th>accuracy</th>\n",
       "      <th>tags</th>\n",
       "    </tr>\n",
       "  </thead>\n",
       "  <tbody>\n",
       "    <tr>\n",
       "      <th>0</th>\n",
       "      <td>1</td>\n",
       "      <td>R1</td>\n",
       "      <td>B1</td>\n",
       "      <td>low</td>\n",
       "      <td>low</td>\n",
       "      <td>mix</td>\n",
       "      <td>low</td>\n",
       "      <td>[accuracy,  error_severity,  sophistication,  ...</td>\n",
       "    </tr>\n",
       "    <tr>\n",
       "      <th>1</th>\n",
       "      <td>1</td>\n",
       "      <td>R11</td>\n",
       "      <td>B1</td>\n",
       "      <td>low</td>\n",
       "      <td>low</td>\n",
       "      <td>mix</td>\n",
       "      <td>low</td>\n",
       "      <td>[preposition,  spelling,  accuracy,  sophistic...</td>\n",
       "    </tr>\n",
       "    <tr>\n",
       "      <th>2</th>\n",
       "      <td>1</td>\n",
       "      <td>R40</td>\n",
       "      <td>B1</td>\n",
       "      <td>low</td>\n",
       "      <td>low</td>\n",
       "      <td>mix</td>\n",
       "      <td>low</td>\n",
       "      <td>[word_formation,  diversity]</td>\n",
       "    </tr>\n",
       "    <tr>\n",
       "      <th>3</th>\n",
       "      <td>2</td>\n",
       "      <td>R6</td>\n",
       "      <td>B1</td>\n",
       "      <td>low</td>\n",
       "      <td>low</td>\n",
       "      <td>mix</td>\n",
       "      <td>high</td>\n",
       "      <td>[collocation_accuracy,  spelling,  sophisticat...</td>\n",
       "    </tr>\n",
       "    <tr>\n",
       "      <th>4</th>\n",
       "      <td>3</td>\n",
       "      <td>R2</td>\n",
       "      <td>B1</td>\n",
       "      <td>mid</td>\n",
       "      <td>high</td>\n",
       "      <td>col</td>\n",
       "      <td>low</td>\n",
       "      <td>[FS,  FS_accuracy,  sophistication,  error_sev...</td>\n",
       "    </tr>\n",
       "  </tbody>\n",
       "</table>\n",
       "</div>"
      ],
      "text/plain": [
       "   text_id rater_id CEFR soph binary_soph soph_type accuracy  \\\n",
       "0        1       R1   B1  low         low       mix      low   \n",
       "1        1      R11   B1  low         low       mix      low   \n",
       "2        1      R40   B1  low         low       mix      low   \n",
       "3        2       R6   B1  low         low       mix     high   \n",
       "4        3       R2   B1  mid        high       col      low   \n",
       "\n",
       "                                                tags  \n",
       "0  [accuracy,  error_severity,  sophistication,  ...  \n",
       "1  [preposition,  spelling,  accuracy,  sophistic...  \n",
       "2                       [word_formation,  diversity]  \n",
       "3  [collocation_accuracy,  spelling,  sophisticat...  \n",
       "4  [FS,  FS_accuracy,  sophistication,  error_sev...  "
      ]
     },
     "execution_count": 5,
     "metadata": {},
     "output_type": "execute_result"
    }
   ],
   "source": [
    "# Split tags\n",
    "\n",
    "comments.tags = comments.tags.apply(lambda x: x.split(\";\"))\n",
    "comments.head()"
   ]
  },
  {
   "cell_type": "code",
   "execution_count": 6,
   "metadata": {},
   "outputs": [
    {
     "data": {
      "text/plain": [
       "[' FS',\n",
       " ' FS_accuracy',\n",
       " ' accuracy',\n",
       " ' accuracy(collocation)',\n",
       " ' accuracy(word_choice)',\n",
       " ' appropriacy',\n",
       " ' coherence',\n",
       " ' collocation',\n",
       " ' collocation_accuracy',\n",
       " ' control',\n",
       " ' diversity',\n",
       " ' error_severity',\n",
       " ' fluency',\n",
       " ' linking_words',\n",
       " ' message',\n",
       " ' preposition',\n",
       " ' register',\n",
       " ' sophistication',\n",
       " ' spelling',\n",
       " ' style',\n",
       " ' task_adequacy',\n",
       " ' tone',\n",
       " ' word_choice',\n",
       " ' word_formation',\n",
       " 'FS',\n",
       " 'accuracy',\n",
       " 'accuracy(collocation)',\n",
       " 'appropriacy',\n",
       " 'collocation',\n",
       " 'collocation_accuracy',\n",
       " 'diversity',\n",
       " 'error_gravity',\n",
       " 'noun_phrase',\n",
       " 'preposition',\n",
       " 'register',\n",
       " 'sophistication',\n",
       " 'spelling',\n",
       " 'style',\n",
       " 'task_adequacy',\n",
       " 'word_choice',\n",
       " 'word_formation']"
      ]
     },
     "execution_count": 6,
     "metadata": {},
     "output_type": "execute_result"
    }
   ],
   "source": [
    "# Check and standardize tags\n",
    "\n",
    "sorted(list(set([x for y in comments.tags for x in y])))"
   ]
  },
  {
   "cell_type": "code",
   "execution_count": 7,
   "metadata": {},
   "outputs": [
    {
     "data": {
      "text/plain": [
       "['FS',\n",
       " 'accuracy',\n",
       " 'accuracy(collocation)',\n",
       " 'accuracy(word_choice)',\n",
       " 'appropriacy',\n",
       " 'coherence',\n",
       " 'collocation',\n",
       " 'error_gravity',\n",
       " 'fluency',\n",
       " 'linking_words',\n",
       " 'noun_phrase',\n",
       " 'preposition',\n",
       " 'range',\n",
       " 'sophistication',\n",
       " 'spelling',\n",
       " 'style',\n",
       " 'word_choice',\n",
       " 'word_formation']"
      ]
     },
     "execution_count": 7,
     "metadata": {},
     "output_type": "execute_result"
    }
   ],
   "source": [
    "# Create dict\n",
    "\n",
    "tags_dict = {\n",
    "    ' FS':'FS',\n",
    "    ' FS_accuracy':'FS',\n",
    "    ' accuracy':'accuracy',\n",
    "    ' accuracy(collocation)':'accuracy(collocation)',\n",
    "    ' accuracy(word_choice)':'accuracy',\n",
    "    ' appropriacy':'appropriacy',\n",
    "    ' coherence':'coherence',\n",
    "    ' collocation':'collocation',\n",
    "    ' collocation_accuracy':'accuracy(collocation)',\n",
    "    ' control':'appropriacy',\n",
    "    ' diversity':'range',\n",
    "    ' error_severity':'error_gravity',\n",
    "    ' fluency':'fluency',\n",
    "    ' linking_words':'linking_words',\n",
    "    ' message':'appropriacy',\n",
    "    ' preposition':'preposition',\n",
    "    ' register':'style',\n",
    "    ' sophistication':'sophistication',\n",
    "    ' spelling':'spelling',\n",
    "    ' style':'style',\n",
    "    ' task_adequacy':'appropriacy',\n",
    "    ' tone':'style',\n",
    "    ' word_choice':'accuracy(word_choice)',\n",
    "    ' word_formation':'word_formation',\n",
    "    'collocation_accuracy':'accuracy(collocation)',\n",
    "    'task_adequacy':'appropriacy',\n",
    "    'diversity':'range',\n",
    "    'register':'style',\n",
    "}\n",
    "\n",
    "# Apply dict\n",
    "\n",
    "comments.tags = comments.tags.apply(lambda row: [tags_dict[x] if x in tags_dict else x for x in row])\n",
    "sorted(list(set([x for y in comments.tags for x in y])))"
   ]
  },
  {
   "cell_type": "markdown",
   "metadata": {},
   "source": [
    "## Data analysis"
   ]
  },
  {
   "cell_type": "code",
   "execution_count": 8,
   "metadata": {},
   "outputs": [
    {
     "data": {
      "text/plain": [
       "Counter({'accuracy': 45,\n",
       "         'error_gravity': 16,\n",
       "         'sophistication': 60,\n",
       "         'range': 44,\n",
       "         'preposition': 4,\n",
       "         'spelling': 12,\n",
       "         'accuracy(word_choice)': 2,\n",
       "         'word_formation': 8,\n",
       "         'accuracy(collocation)': 7,\n",
       "         'appropriacy': 38,\n",
       "         'FS': 24,\n",
       "         'coherence': 2,\n",
       "         'style': 10,\n",
       "         'collocation': 38,\n",
       "         'word_choice': 1,\n",
       "         'fluency': 2,\n",
       "         'linking_words': 1,\n",
       "         'noun_phrase': 1})"
      ]
     },
     "execution_count": 8,
     "metadata": {},
     "output_type": "execute_result"
    }
   ],
   "source": [
    "# Counts of each tag\n",
    "\n",
    "tags = [x for y in comments.tags for x in y]\n",
    "tag_counts = collections.Counter(tags)\n",
    "tag_counts"
   ]
  },
  {
   "cell_type": "code",
   "execution_count": 9,
   "metadata": {},
   "outputs": [
    {
     "data": {
      "text/plain": [
       "dict_items([('accuracy', 45), ('error_gravity', 16), ('sophistication', 60), ('range', 44), ('preposition', 4), ('spelling', 12), ('accuracy(word_choice)', 2), ('word_formation', 8), ('accuracy(collocation)', 7), ('appropriacy', 38), ('FS', 24), ('coherence', 2), ('style', 10), ('collocation', 38), ('word_choice', 1), ('fluency', 2), ('linking_words', 1), ('noun_phrase', 1)])"
      ]
     },
     "execution_count": 9,
     "metadata": {},
     "output_type": "execute_result"
    }
   ],
   "source": [
    "tag_counts.items()"
   ]
  },
  {
   "cell_type": "markdown",
   "metadata": {},
   "source": [
    "These counts will be used for the visualization created in R in notebook 15."
   ]
  },
  {
   "cell_type": "markdown",
   "metadata": {},
   "source": [
    "[Back to top](#Processing-qualitative-survey-data)"
   ]
  }
 ],
 "metadata": {
  "kernelspec": {
   "display_name": "Python 3",
   "language": "python",
   "name": "python3"
  },
  "language_info": {
   "codemirror_mode": {
    "name": "ipython",
    "version": 3
   },
   "file_extension": ".py",
   "mimetype": "text/x-python",
   "name": "python",
   "nbconvert_exporter": "python",
   "pygments_lexer": "ipython3",
   "version": "3.8.8"
  }
 },
 "nbformat": 4,
 "nbformat_minor": 4
}
