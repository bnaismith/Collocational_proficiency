{
 "cells": [
  {
   "cell_type": "markdown",
   "metadata": {},
   "source": [
    "# Analyzing survey data\n",
    "\n",
    "<br>\n",
    "\n",
    "**Language: R**\n",
    "\n",
    "This notebook provides the code for the descriptive analysis, inferential analysis, and visualization of the main survey data. See dissertation Chapter 6 for details.\n",
    "\n",
    "**Notebook contents:**\n",
    "- [Initial setup](#Initial-setup)\n",
    "- [Descriptive statistics](#Descriptive-statistics)\n",
    "- [Correlation analysis](#Correlation-analysis)\n",
    "- [Variable coding](#Variable-coding)\n",
    "- [Model 1 - Lexical Resource (experimental)](#Model-1---Lexical-Resource-(experimental))\n",
    "- [Model 2 - Lexical Resource (exploratory)](#Model-2---Lexical-Resource-(exploratory))\n",
    "- [Model 3 - Holistic score](#Model-3---Holistic-score-)\n",
    "- [Survery comments](#Survey-comments)"
   ]
  },
  {
   "cell_type": "markdown",
   "metadata": {},
   "source": [
    "## Initial setup"
   ]
  },
  {
   "cell_type": "code",
   "execution_count": 1,
   "metadata": {},
   "outputs": [],
   "source": [
    "# Set notebook preferences\n",
    "\n",
    "options(repr.matrix.max.cols=50, repr.matrix.max.rows=100) # Allow viewing of bigger dataframes\n",
    "options(warn=-1) # Suppress warnings"
   ]
  },
  {
   "cell_type": "code",
   "execution_count": 2,
   "metadata": {},
   "outputs": [
    {
     "name": "stderr",
     "output_type": "stream",
     "text": [
      "Loading required package: ggplot2\n",
      "\n",
      "── \u001b[1mAttaching packages\u001b[22m ─────────────────────────────────────── tidyverse 1.3.1 ──\n",
      "\n",
      "\u001b[32m✔\u001b[39m \u001b[34mtibble \u001b[39m 3.1.4     \u001b[32m✔\u001b[39m \u001b[34mdplyr  \u001b[39m 1.0.7\n",
      "\u001b[32m✔\u001b[39m \u001b[34mtidyr  \u001b[39m 1.1.3     \u001b[32m✔\u001b[39m \u001b[34mstringr\u001b[39m 1.4.0\n",
      "\u001b[32m✔\u001b[39m \u001b[34mreadr  \u001b[39m 2.0.1     \u001b[32m✔\u001b[39m \u001b[34mforcats\u001b[39m 0.5.1\n",
      "\u001b[32m✔\u001b[39m \u001b[34mpurrr  \u001b[39m 0.3.4     \n",
      "\n",
      "── \u001b[1mConflicts\u001b[22m ────────────────────────────────────────── tidyverse_conflicts() ──\n",
      "\u001b[31m✖\u001b[39m \u001b[34mdplyr\u001b[39m::\u001b[32mfilter()\u001b[39m masks \u001b[34mstats\u001b[39m::filter()\n",
      "\u001b[31m✖\u001b[39m \u001b[34mdplyr\u001b[39m::\u001b[32mlag()\u001b[39m    masks \u001b[34mstats\u001b[39m::lag()\n",
      "\n",
      "Loading required package: mvtnorm\n",
      "\n",
      "Loading required package: survival\n",
      "\n",
      "Loading required package: TH.data\n",
      "\n",
      "Loading required package: MASS\n",
      "\n",
      "\n",
      "Attaching package: ‘MASS’\n",
      "\n",
      "\n",
      "The following object is masked from ‘package:dplyr’:\n",
      "\n",
      "    select\n",
      "\n",
      "\n",
      "\n",
      "Attaching package: ‘TH.data’\n",
      "\n",
      "\n",
      "The following object is masked from ‘package:MASS’:\n",
      "\n",
      "    geyser\n",
      "\n",
      "\n",
      "\n",
      "Attaching package: ‘psych’\n",
      "\n",
      "\n",
      "The following objects are masked from ‘package:ggplot2’:\n",
      "\n",
      "    %+%, alpha\n",
      "\n",
      "\n"
     ]
    }
   ],
   "source": [
    "# Load libraries\n",
    "\n",
    "library(ggcorrplot)\n",
    "library(tidyverse)\n",
    "library(emmeans)\n",
    "library(multcomp)\n",
    "library(sjPlot)\n",
    "library(psych)"
   ]
  },
  {
   "cell_type": "code",
   "execution_count": 3,
   "metadata": {},
   "outputs": [
    {
     "data": {
      "text/html": [
       "<table class=\"dataframe\">\n",
       "<caption>A data.frame: 1 × 33</caption>\n",
       "<thead>\n",
       "\t<tr><th></th><th scope=col>response_id</th><th scope=col>text_id</th><th scope=col>rater_id</th><th scope=col>CEFR</th><th scope=col>TR</th><th scope=col>CC</th><th scope=col>LR</th><th scope=col>GRA</th><th scope=col>HOL</th><th scope=col>soph</th><th scope=col>soph_type</th><th scope=col>accuracy</th><th scope=col>comment</th><th scope=col>duration</th><th scope=col>text_order</th><th scope=col>gender</th><th scope=col>age</th><th scope=col>education</th><th scope=col>TESOL_cert</th><th scope=col>ELT_exp_yrs</th><th scope=col>IELTS_status</th><th scope=col>current</th><th scope=col>IELTS_exp_yrs</th><th scope=col>rater_L1</th><th scope=col>rater_English</th><th scope=col>student_L1</th><th scope=col>L1_range</th><th scope=col>prof_range</th><th scope=col>TR_fair</th><th scope=col>CC_fair</th><th scope=col>LR_fair</th><th scope=col>GRA_fair</th><th scope=col>HOL_fair</th></tr>\n",
       "\t<tr><th></th><th scope=col>&lt;int&gt;</th><th scope=col>&lt;chr&gt;</th><th scope=col>&lt;chr&gt;</th><th scope=col>&lt;chr&gt;</th><th scope=col>&lt;dbl&gt;</th><th scope=col>&lt;dbl&gt;</th><th scope=col>&lt;dbl&gt;</th><th scope=col>&lt;dbl&gt;</th><th scope=col>&lt;dbl&gt;</th><th scope=col>&lt;chr&gt;</th><th scope=col>&lt;chr&gt;</th><th scope=col>&lt;chr&gt;</th><th scope=col>&lt;chr&gt;</th><th scope=col>&lt;chr&gt;</th><th scope=col>&lt;chr&gt;</th><th scope=col>&lt;chr&gt;</th><th scope=col>&lt;chr&gt;</th><th scope=col>&lt;chr&gt;</th><th scope=col>&lt;chr&gt;</th><th scope=col>&lt;chr&gt;</th><th scope=col>&lt;chr&gt;</th><th scope=col>&lt;chr&gt;</th><th scope=col>&lt;chr&gt;</th><th scope=col>&lt;chr&gt;</th><th scope=col>&lt;chr&gt;</th><th scope=col>&lt;chr&gt;</th><th scope=col>&lt;chr&gt;</th><th scope=col>&lt;chr&gt;</th><th scope=col>&lt;dbl&gt;</th><th scope=col>&lt;dbl&gt;</th><th scope=col>&lt;dbl&gt;</th><th scope=col>&lt;dbl&gt;</th><th scope=col>&lt;dbl&gt;</th></tr>\n",
       "</thead>\n",
       "<tbody>\n",
       "\t<tr><th scope=row>1</th><td>1</td><td>Text1</td><td>R1</td><td>B1</td><td>4.3</td><td>4.3</td><td>4.3</td><td>3.7</td><td>3.4</td><td>low</td><td>NA</td><td>low</td><td>The candidate uses only basic vocabulary repetitively. Errors are frequent and cause strain for the reader. </td><td>q3</td><td>C1_B1_B2</td><td>Female</td><td>30-39</td><td>BA</td><td>diploma</td><td>6-10</td><td>examiner</td><td>former</td><td>6-10</td><td>Spanish</td><td>L2</td><td>Arabic</td><td>wide</td><td>wide</td><td>4.9</td><td>4.8</td><td>5.3</td><td>4.8</td><td>4.8</td></tr>\n",
       "</tbody>\n",
       "</table>\n"
      ],
      "text/latex": [
       "A data.frame: 1 × 33\n",
       "\\begin{tabular}{r|lllllllllllllllllllllllllllllllll}\n",
       "  & response\\_id & text\\_id & rater\\_id & CEFR & TR & CC & LR & GRA & HOL & soph & soph\\_type & accuracy & comment & duration & text\\_order & gender & age & education & TESOL\\_cert & ELT\\_exp\\_yrs & IELTS\\_status & current & IELTS\\_exp\\_yrs & rater\\_L1 & rater\\_English & student\\_L1 & L1\\_range & prof\\_range & TR\\_fair & CC\\_fair & LR\\_fair & GRA\\_fair & HOL\\_fair\\\\\n",
       "  & <int> & <chr> & <chr> & <chr> & <dbl> & <dbl> & <dbl> & <dbl> & <dbl> & <chr> & <chr> & <chr> & <chr> & <chr> & <chr> & <chr> & <chr> & <chr> & <chr> & <chr> & <chr> & <chr> & <chr> & <chr> & <chr> & <chr> & <chr> & <chr> & <dbl> & <dbl> & <dbl> & <dbl> & <dbl>\\\\\n",
       "\\hline\n",
       "\t1 & 1 & Text1 & R1 & B1 & 4.3 & 4.3 & 4.3 & 3.7 & 3.4 & low & NA & low & The candidate uses only basic vocabulary repetitively. Errors are frequent and cause strain for the reader.  & q3 & C1\\_B1\\_B2 & Female & 30-39 & BA & diploma & 6-10 & examiner & former & 6-10 & Spanish & L2 & Arabic & wide & wide & 4.9 & 4.8 & 5.3 & 4.8 & 4.8\\\\\n",
       "\\end{tabular}\n"
      ],
      "text/markdown": [
       "\n",
       "A data.frame: 1 × 33\n",
       "\n",
       "| <!--/--> | response_id &lt;int&gt; | text_id &lt;chr&gt; | rater_id &lt;chr&gt; | CEFR &lt;chr&gt; | TR &lt;dbl&gt; | CC &lt;dbl&gt; | LR &lt;dbl&gt; | GRA &lt;dbl&gt; | HOL &lt;dbl&gt; | soph &lt;chr&gt; | soph_type &lt;chr&gt; | accuracy &lt;chr&gt; | comment &lt;chr&gt; | duration &lt;chr&gt; | text_order &lt;chr&gt; | gender &lt;chr&gt; | age &lt;chr&gt; | education &lt;chr&gt; | TESOL_cert &lt;chr&gt; | ELT_exp_yrs &lt;chr&gt; | IELTS_status &lt;chr&gt; | current &lt;chr&gt; | IELTS_exp_yrs &lt;chr&gt; | rater_L1 &lt;chr&gt; | rater_English &lt;chr&gt; | student_L1 &lt;chr&gt; | L1_range &lt;chr&gt; | prof_range &lt;chr&gt; | TR_fair &lt;dbl&gt; | CC_fair &lt;dbl&gt; | LR_fair &lt;dbl&gt; | GRA_fair &lt;dbl&gt; | HOL_fair &lt;dbl&gt; |\n",
       "|---|---|---|---|---|---|---|---|---|---|---|---|---|---|---|---|---|---|---|---|---|---|---|---|---|---|---|---|---|---|---|---|---|---|\n",
       "| 1 | 1 | Text1 | R1 | B1 | 4.3 | 4.3 | 4.3 | 3.7 | 3.4 | low | NA | low | The candidate uses only basic vocabulary repetitively. Errors are frequent and cause strain for the reader.  | q3 | C1_B1_B2 | Female | 30-39 | BA | diploma | 6-10 | examiner | former | 6-10 | Spanish | L2 | Arabic | wide | wide | 4.9 | 4.8 | 5.3 | 4.8 | 4.8 |\n",
       "\n"
      ],
      "text/plain": [
       "  response_id text_id rater_id CEFR TR  CC  LR  GRA HOL soph soph_type accuracy\n",
       "1 1           Text1   R1       B1   4.3 4.3 4.3 3.7 3.4 low  NA        low     \n",
       "  comment                                                                                                     \n",
       "1 The candidate uses only basic vocabulary repetitively. Errors are frequent and cause strain for the reader. \n",
       "  duration text_order gender age   education TESOL_cert ELT_exp_yrs\n",
       "1 q3       C1_B1_B2   Female 30-39 BA        diploma    6-10       \n",
       "  IELTS_status current IELTS_exp_yrs rater_L1 rater_English student_L1 L1_range\n",
       "1 examiner     former  6-10          Spanish  L2            Arabic     wide    \n",
       "  prof_range TR_fair CC_fair LR_fair GRA_fair HOL_fair\n",
       "1 wide       4.9     4.8     5.3     4.8      4.8     "
      ]
     },
     "metadata": {},
     "output_type": "display_data"
    },
    {
     "data": {
      "text/html": [
       "128"
      ],
      "text/latex": [
       "128"
      ],
      "text/markdown": [
       "128"
      ],
      "text/plain": [
       "[1] 128"
      ]
     },
     "metadata": {},
     "output_type": "display_data"
    }
   ],
   "source": [
    "# Read in survey data\n",
    "\n",
    "ratings <- read.csv(file=\"../docs/ratings_R.csv\", header=TRUE, sep=\",\")\n",
    "head(ratings,1)\n",
    "nrow(ratings)"
   ]
  },
  {
   "cell_type": "code",
   "execution_count": 4,
   "metadata": {},
   "outputs": [
    {
     "data": {
      "text/html": [
       "<table class=\"dataframe\">\n",
       "<caption>A data.frame: 3 × 9</caption>\n",
       "<thead>\n",
       "\t<tr><th></th><th scope=col>CEFR</th><th scope=col>soph</th><th scope=col>soph_type</th><th scope=col>accuracy</th><th scope=col>TR_fair</th><th scope=col>CC_fair</th><th scope=col>LR_fair</th><th scope=col>GRA_fair</th><th scope=col>HOL_fair</th></tr>\n",
       "\t<tr><th></th><th scope=col>&lt;chr&gt;</th><th scope=col>&lt;chr&gt;</th><th scope=col>&lt;chr&gt;</th><th scope=col>&lt;chr&gt;</th><th scope=col>&lt;dbl&gt;</th><th scope=col>&lt;dbl&gt;</th><th scope=col>&lt;dbl&gt;</th><th scope=col>&lt;dbl&gt;</th><th scope=col>&lt;dbl&gt;</th></tr>\n",
       "</thead>\n",
       "<tbody>\n",
       "\t<tr><th scope=row>1</th><td>B1</td><td>low</td><td>NA</td><td>low</td><td>4.9</td><td>4.8</td><td>5.3</td><td>4.8</td><td>4.8</td></tr>\n",
       "\t<tr><th scope=row>2</th><td>B1</td><td>low</td><td>NA</td><td>low</td><td>4.9</td><td>4.8</td><td>5.3</td><td>4.8</td><td>4.8</td></tr>\n",
       "\t<tr><th scope=row>3</th><td>B1</td><td>low</td><td>NA</td><td>low</td><td>4.9</td><td>4.8</td><td>5.3</td><td>4.8</td><td>4.8</td></tr>\n",
       "</tbody>\n",
       "</table>\n"
      ],
      "text/latex": [
       "A data.frame: 3 × 9\n",
       "\\begin{tabular}{r|lllllllll}\n",
       "  & CEFR & soph & soph\\_type & accuracy & TR\\_fair & CC\\_fair & LR\\_fair & GRA\\_fair & HOL\\_fair\\\\\n",
       "  & <chr> & <chr> & <chr> & <chr> & <dbl> & <dbl> & <dbl> & <dbl> & <dbl>\\\\\n",
       "\\hline\n",
       "\t1 & B1 & low & NA & low & 4.9 & 4.8 & 5.3 & 4.8 & 4.8\\\\\n",
       "\t2 & B1 & low & NA & low & 4.9 & 4.8 & 5.3 & 4.8 & 4.8\\\\\n",
       "\t3 & B1 & low & NA & low & 4.9 & 4.8 & 5.3 & 4.8 & 4.8\\\\\n",
       "\\end{tabular}\n"
      ],
      "text/markdown": [
       "\n",
       "A data.frame: 3 × 9\n",
       "\n",
       "| <!--/--> | CEFR &lt;chr&gt; | soph &lt;chr&gt; | soph_type &lt;chr&gt; | accuracy &lt;chr&gt; | TR_fair &lt;dbl&gt; | CC_fair &lt;dbl&gt; | LR_fair &lt;dbl&gt; | GRA_fair &lt;dbl&gt; | HOL_fair &lt;dbl&gt; |\n",
       "|---|---|---|---|---|---|---|---|---|---|\n",
       "| 1 | B1 | low | NA | low | 4.9 | 4.8 | 5.3 | 4.8 | 4.8 |\n",
       "| 2 | B1 | low | NA | low | 4.9 | 4.8 | 5.3 | 4.8 | 4.8 |\n",
       "| 3 | B1 | low | NA | low | 4.9 | 4.8 | 5.3 | 4.8 | 4.8 |\n",
       "\n"
      ],
      "text/plain": [
       "  CEFR soph soph_type accuracy TR_fair CC_fair LR_fair GRA_fair HOL_fair\n",
       "1 B1   low  NA        low      4.9     4.8     5.3     4.8      4.8     \n",
       "2 B1   low  NA        low      4.9     4.8     5.3     4.8      4.8     \n",
       "3 B1   low  NA        low      4.9     4.8     5.3     4.8      4.8     "
      ]
     },
     "metadata": {},
     "output_type": "display_data"
    },
    {
     "data": {
      "text/html": [
       "128"
      ],
      "text/latex": [
       "128"
      ],
      "text/markdown": [
       "128"
      ],
      "text/plain": [
       "[1] 128"
      ]
     },
     "metadata": {},
     "output_type": "display_data"
    }
   ],
   "source": [
    "# Keep relevant columns\n",
    "\n",
    "ratings <- ratings[c(\"CEFR\",\"soph\",\"soph_type\",\"accuracy\",\"TR_fair\",\"CC_fair\",\"LR_fair\",\"GRA_fair\",\"HOL_fair\")]\n",
    "head(ratings,3)\n",
    "nrow(ratings)"
   ]
  },
  {
   "cell_type": "code",
   "execution_count": 5,
   "metadata": {},
   "outputs": [],
   "source": [
    "# Convert columns to factors\n",
    "\n",
    "ratings$CEFR <- factor(ratings$CEFR, levels = c(\"B1\",\"B2\",\"C1\"))\n",
    "ratings$soph <- factor(ratings$soph, levels = c(\"low\",\"mid\",\"high\"))\n",
    "ratings$soph_type <- factor(ratings$soph_type, levels = c(\"non_col\",\"col\"))\n",
    "ratings$accuracy <- factor(ratings$accuracy, levels = c(\"low\",\"high\"))"
   ]
  },
  {
   "cell_type": "markdown",
   "metadata": {},
   "source": [
    "## Correlation analysis"
   ]
  },
  {
   "cell_type": "code",
   "execution_count": 6,
   "metadata": {},
   "outputs": [
    {
     "data": {
      "image/png": "[encoded data removed]",
      "text/plain": [
       "plot without title"
      ]
     },
     "metadata": {
      "image/png": {
       "height": 420,
       "width": 420
      }
     },
     "output_type": "display_data"
    }
   ],
   "source": [
    "M = model.matrix(~0+., data=ratings) %>% \n",
    "  cor() %>% \n",
    "  ggcorrplot(show.diag = F, type=\"lower\", lab=TRUE, lab_size=2)\n",
    "\n",
    "M + \n",
    "    scale_x_discrete(labels = c(\"CEFR B2\", \"CEFR C1\",\"soph_level mid\", \"soph_level high\",\"soph_type col\",\"accuracy high\",\"TR\", \"CC\", \"LR\", \"GRA\",\"HOL\")) + \n",
    "    scale_y_discrete(labels = c(\"CEFR B1\", \"CEFR B2\", \"CEFR C1\",\"soph_level mid\", \"soph_level high\",\"soph_type col\",\"accuracy high\",\"TR\", \"CC\", \"LR\", \"GRA\"))"
   ]
  },
  {
   "cell_type": "code",
   "execution_count": 7,
   "metadata": {},
   "outputs": [
    {
     "data": {
      "text/html": [
       "<table class=\"dataframe\">\n",
       "<caption>A matrix: 12 × 12 of type dbl</caption>\n",
       "<thead>\n",
       "\t<tr><th></th><th scope=col>CEFRB1</th><th scope=col>CEFRB2</th><th scope=col>CEFRC1</th><th scope=col>sophmid</th><th scope=col>sophhigh</th><th scope=col>soph_typecol</th><th scope=col>accuracyhigh</th><th scope=col>TR_fair</th><th scope=col>CC_fair</th><th scope=col>LR_fair</th><th scope=col>GRA_fair</th><th scope=col>HOL_fair</th></tr>\n",
       "</thead>\n",
       "<tbody>\n",
       "\t<tr><th scope=row>CEFRB1</th><td>0.000000e+00</td><td>1.0000000</td><td>1.157686e-01</td><td>1.0000000</td><td>1.0000000</td><td>1.0000000</td><td>1.0000000</td><td>2.485358e-04</td><td>2.733324e-04</td><td>1.339557e-04</td><td>2.651180e-04</td><td>2.160386e-04</td></tr>\n",
       "\t<tr><th scope=row>CEFRB2</th><td>2.749192e-01</td><td>0.0000000</td><td>1.000000e+00</td><td>1.0000000</td><td>1.0000000</td><td>1.0000000</td><td>1.0000000</td><td>1.000000e+00</td><td>1.000000e+00</td><td>1.000000e+00</td><td>1.000000e+00</td><td>1.000000e+00</td></tr>\n",
       "\t<tr><th scope=row>CEFRC1</th><td>2.572637e-03</td><td>0.3187640</td><td>0.000000e+00</td><td>1.0000000</td><td>1.0000000</td><td>1.0000000</td><td>1.0000000</td><td>2.117890e-04</td><td>1.879474e-04</td><td>3.396872e-04</td><td>2.003243e-04</td><td>2.422962e-04</td></tr>\n",
       "\t<tr><th scope=row>sophmid</th><td>8.810776e-01</td><td>0.8341513</td><td>7.717495e-01</td><td>0.0000000</td><td>0.0000000</td><td>1.0000000</td><td>1.0000000</td><td>1.000000e+00</td><td>1.000000e+00</td><td>1.000000e+00</td><td>1.000000e+00</td><td>1.000000e+00</td></tr>\n",
       "\t<tr><th scope=row>sophhigh</th><td>8.810776e-01</td><td>0.8341513</td><td>7.717495e-01</td><td>0.0000000</td><td>0.0000000</td><td>1.0000000</td><td>1.0000000</td><td>1.000000e+00</td><td>1.000000e+00</td><td>1.000000e+00</td><td>1.000000e+00</td><td>1.000000e+00</td></tr>\n",
       "\t<tr><th scope=row>soph_typecol</th><td>4.945950e-01</td><td>0.8336902</td><td>4.033254e-01</td><td>0.8276308</td><td>0.8276308</td><td>0.0000000</td><td>1.0000000</td><td>1.000000e+00</td><td>1.000000e+00</td><td>1.000000e+00</td><td>1.000000e+00</td><td>1.000000e+00</td></tr>\n",
       "\t<tr><th scope=row>accuracyhigh</th><td>6.343646e-01</td><td>0.8767699</td><td>7.064836e-01</td><td>0.8229004</td><td>0.8229004</td><td>0.6564431</td><td>0.0000000</td><td>1.000000e+00</td><td>1.000000e+00</td><td>1.000000e+00</td><td>1.000000e+00</td><td>1.000000e+00</td></tr>\n",
       "\t<tr><th scope=row>TR_fair</th><td>5.072160e-06</td><td>0.9730155</td><td>4.072865e-06</td><td>0.7121623</td><td>0.7121623</td><td>0.3781053</td><td>0.7126538</td><td>0.000000e+00</td><td>1.003998e-20</td><td>2.882956e-15</td><td>6.180403e-22</td><td>2.656709e-20</td></tr>\n",
       "\t<tr><th scope=row>CC_fair</th><td>5.815583e-06</td><td>0.9858955</td><td>3.480508e-06</td><td>0.7197926</td><td>0.7197926</td><td>0.3815576</td><td>0.7189330</td><td>1.593648e-22</td><td>0.000000e+00</td><td>9.570987e-15</td><td>1.294786e-23</td><td>6.510685e-19</td></tr>\n",
       "\t<tr><th scope=row>LR_fair</th><td>2.435559e-06</td><td>0.9153000</td><td>7.384504e-06</td><td>0.7411085</td><td>0.7411085</td><td>0.3935876</td><td>0.7040483</td><td>4.970613e-17</td><td>1.709105e-16</td><td>0.000000e+00</td><td>6.947660e-15</td><td>1.736851e-16</td></tr>\n",
       "\t<tr><th scope=row>GRA_fair</th><td>5.523292e-06</td><td>0.9800689</td><td>3.779704e-06</td><td>0.7149445</td><td>0.7149445</td><td>0.3789023</td><td>0.7225898</td><td>9.656880e-24</td><td>1.991979e-25</td><td>1.218888e-16</td><td>0.000000e+00</td><td>1.003201e-19</td></tr>\n",
       "\t<tr><th scope=row>HOL_fair</th><td>4.236050e-06</td><td>0.9574686</td><td>4.845924e-06</td><td>0.7209607</td><td>0.7209607</td><td>0.3827350</td><td>0.7178894</td><td>4.285015e-22</td><td>1.085114e-20</td><td>2.943815e-18</td><td>1.644592e-21</td><td>0.000000e+00</td></tr>\n",
       "</tbody>\n",
       "</table>\n"
      ],
      "text/latex": [
       "A matrix: 12 × 12 of type dbl\n",
       "\\begin{tabular}{r|llllllllllll}\n",
       "  & CEFRB1 & CEFRB2 & CEFRC1 & sophmid & sophhigh & soph\\_typecol & accuracyhigh & TR\\_fair & CC\\_fair & LR\\_fair & GRA\\_fair & HOL\\_fair\\\\\n",
       "\\hline\n",
       "\tCEFRB1 & 0.000000e+00 & 1.0000000 & 1.157686e-01 & 1.0000000 & 1.0000000 & 1.0000000 & 1.0000000 & 2.485358e-04 & 2.733324e-04 & 1.339557e-04 & 2.651180e-04 & 2.160386e-04\\\\\n",
       "\tCEFRB2 & 2.749192e-01 & 0.0000000 & 1.000000e+00 & 1.0000000 & 1.0000000 & 1.0000000 & 1.0000000 & 1.000000e+00 & 1.000000e+00 & 1.000000e+00 & 1.000000e+00 & 1.000000e+00\\\\\n",
       "\tCEFRC1 & 2.572637e-03 & 0.3187640 & 0.000000e+00 & 1.0000000 & 1.0000000 & 1.0000000 & 1.0000000 & 2.117890e-04 & 1.879474e-04 & 3.396872e-04 & 2.003243e-04 & 2.422962e-04\\\\\n",
       "\tsophmid & 8.810776e-01 & 0.8341513 & 7.717495e-01 & 0.0000000 & 0.0000000 & 1.0000000 & 1.0000000 & 1.000000e+00 & 1.000000e+00 & 1.000000e+00 & 1.000000e+00 & 1.000000e+00\\\\\n",
       "\tsophhigh & 8.810776e-01 & 0.8341513 & 7.717495e-01 & 0.0000000 & 0.0000000 & 1.0000000 & 1.0000000 & 1.000000e+00 & 1.000000e+00 & 1.000000e+00 & 1.000000e+00 & 1.000000e+00\\\\\n",
       "\tsoph\\_typecol & 4.945950e-01 & 0.8336902 & 4.033254e-01 & 0.8276308 & 0.8276308 & 0.0000000 & 1.0000000 & 1.000000e+00 & 1.000000e+00 & 1.000000e+00 & 1.000000e+00 & 1.000000e+00\\\\\n",
       "\taccuracyhigh & 6.343646e-01 & 0.8767699 & 7.064836e-01 & 0.8229004 & 0.8229004 & 0.6564431 & 0.0000000 & 1.000000e+00 & 1.000000e+00 & 1.000000e+00 & 1.000000e+00 & 1.000000e+00\\\\\n",
       "\tTR\\_fair & 5.072160e-06 & 0.9730155 & 4.072865e-06 & 0.7121623 & 0.7121623 & 0.3781053 & 0.7126538 & 0.000000e+00 & 1.003998e-20 & 2.882956e-15 & 6.180403e-22 & 2.656709e-20\\\\\n",
       "\tCC\\_fair & 5.815583e-06 & 0.9858955 & 3.480508e-06 & 0.7197926 & 0.7197926 & 0.3815576 & 0.7189330 & 1.593648e-22 & 0.000000e+00 & 9.570987e-15 & 1.294786e-23 & 6.510685e-19\\\\\n",
       "\tLR\\_fair & 2.435559e-06 & 0.9153000 & 7.384504e-06 & 0.7411085 & 0.7411085 & 0.3935876 & 0.7040483 & 4.970613e-17 & 1.709105e-16 & 0.000000e+00 & 6.947660e-15 & 1.736851e-16\\\\\n",
       "\tGRA\\_fair & 5.523292e-06 & 0.9800689 & 3.779704e-06 & 0.7149445 & 0.7149445 & 0.3789023 & 0.7225898 & 9.656880e-24 & 1.991979e-25 & 1.218888e-16 & 0.000000e+00 & 1.003201e-19\\\\\n",
       "\tHOL\\_fair & 4.236050e-06 & 0.9574686 & 4.845924e-06 & 0.7209607 & 0.7209607 & 0.3827350 & 0.7178894 & 4.285015e-22 & 1.085114e-20 & 2.943815e-18 & 1.644592e-21 & 0.000000e+00\\\\\n",
       "\\end{tabular}\n"
      ],
      "text/markdown": [
       "\n",
       "A matrix: 12 × 12 of type dbl\n",
       "\n",
       "| <!--/--> | CEFRB1 | CEFRB2 | CEFRC1 | sophmid | sophhigh | soph_typecol | accuracyhigh | TR_fair | CC_fair | LR_fair | GRA_fair | HOL_fair |\n",
       "|---|---|---|---|---|---|---|---|---|---|---|---|---|\n",
       "| CEFRB1 | 0.000000e+00 | 1.0000000 | 1.157686e-01 | 1.0000000 | 1.0000000 | 1.0000000 | 1.0000000 | 2.485358e-04 | 2.733324e-04 | 1.339557e-04 | 2.651180e-04 | 2.160386e-04 |\n",
       "| CEFRB2 | 2.749192e-01 | 0.0000000 | 1.000000e+00 | 1.0000000 | 1.0000000 | 1.0000000 | 1.0000000 | 1.000000e+00 | 1.000000e+00 | 1.000000e+00 | 1.000000e+00 | 1.000000e+00 |\n",
       "| CEFRC1 | 2.572637e-03 | 0.3187640 | 0.000000e+00 | 1.0000000 | 1.0000000 | 1.0000000 | 1.0000000 | 2.117890e-04 | 1.879474e-04 | 3.396872e-04 | 2.003243e-04 | 2.422962e-04 |\n",
       "| sophmid | 8.810776e-01 | 0.8341513 | 7.717495e-01 | 0.0000000 | 0.0000000 | 1.0000000 | 1.0000000 | 1.000000e+00 | 1.000000e+00 | 1.000000e+00 | 1.000000e+00 | 1.000000e+00 |\n",
       "| sophhigh | 8.810776e-01 | 0.8341513 | 7.717495e-01 | 0.0000000 | 0.0000000 | 1.0000000 | 1.0000000 | 1.000000e+00 | 1.000000e+00 | 1.000000e+00 | 1.000000e+00 | 1.000000e+00 |\n",
       "| soph_typecol | 4.945950e-01 | 0.8336902 | 4.033254e-01 | 0.8276308 | 0.8276308 | 0.0000000 | 1.0000000 | 1.000000e+00 | 1.000000e+00 | 1.000000e+00 | 1.000000e+00 | 1.000000e+00 |\n",
       "| accuracyhigh | 6.343646e-01 | 0.8767699 | 7.064836e-01 | 0.8229004 | 0.8229004 | 0.6564431 | 0.0000000 | 1.000000e+00 | 1.000000e+00 | 1.000000e+00 | 1.000000e+00 | 1.000000e+00 |\n",
       "| TR_fair | 5.072160e-06 | 0.9730155 | 4.072865e-06 | 0.7121623 | 0.7121623 | 0.3781053 | 0.7126538 | 0.000000e+00 | 1.003998e-20 | 2.882956e-15 | 6.180403e-22 | 2.656709e-20 |\n",
       "| CC_fair | 5.815583e-06 | 0.9858955 | 3.480508e-06 | 0.7197926 | 0.7197926 | 0.3815576 | 0.7189330 | 1.593648e-22 | 0.000000e+00 | 9.570987e-15 | 1.294786e-23 | 6.510685e-19 |\n",
       "| LR_fair | 2.435559e-06 | 0.9153000 | 7.384504e-06 | 0.7411085 | 0.7411085 | 0.3935876 | 0.7040483 | 4.970613e-17 | 1.709105e-16 | 0.000000e+00 | 6.947660e-15 | 1.736851e-16 |\n",
       "| GRA_fair | 5.523292e-06 | 0.9800689 | 3.779704e-06 | 0.7149445 | 0.7149445 | 0.3789023 | 0.7225898 | 9.656880e-24 | 1.991979e-25 | 1.218888e-16 | 0.000000e+00 | 1.003201e-19 |\n",
       "| HOL_fair | 4.236050e-06 | 0.9574686 | 4.845924e-06 | 0.7209607 | 0.7209607 | 0.3827350 | 0.7178894 | 4.285015e-22 | 1.085114e-20 | 2.943815e-18 | 1.644592e-21 | 0.000000e+00 |\n",
       "\n"
      ],
      "text/plain": [
       "             CEFRB1       CEFRB2    CEFRC1       sophmid   sophhigh \n",
       "CEFRB1       0.000000e+00 1.0000000 1.157686e-01 1.0000000 1.0000000\n",
       "CEFRB2       2.749192e-01 0.0000000 1.000000e+00 1.0000000 1.0000000\n",
       "CEFRC1       2.572637e-03 0.3187640 0.000000e+00 1.0000000 1.0000000\n",
       "sophmid      8.810776e-01 0.8341513 7.717495e-01 0.0000000 0.0000000\n",
       "sophhigh     8.810776e-01 0.8341513 7.717495e-01 0.0000000 0.0000000\n",
       "soph_typecol 4.945950e-01 0.8336902 4.033254e-01 0.8276308 0.8276308\n",
       "accuracyhigh 6.343646e-01 0.8767699 7.064836e-01 0.8229004 0.8229004\n",
       "TR_fair      5.072160e-06 0.9730155 4.072865e-06 0.7121623 0.7121623\n",
       "CC_fair      5.815583e-06 0.9858955 3.480508e-06 0.7197926 0.7197926\n",
       "LR_fair      2.435559e-06 0.9153000 7.384504e-06 0.7411085 0.7411085\n",
       "GRA_fair     5.523292e-06 0.9800689 3.779704e-06 0.7149445 0.7149445\n",
       "HOL_fair     4.236050e-06 0.9574686 4.845924e-06 0.7209607 0.7209607\n",
       "             soph_typecol accuracyhigh TR_fair      CC_fair      LR_fair     \n",
       "CEFRB1       1.0000000    1.0000000    2.485358e-04 2.733324e-04 1.339557e-04\n",
       "CEFRB2       1.0000000    1.0000000    1.000000e+00 1.000000e+00 1.000000e+00\n",
       "CEFRC1       1.0000000    1.0000000    2.117890e-04 1.879474e-04 3.396872e-04\n",
       "sophmid      1.0000000    1.0000000    1.000000e+00 1.000000e+00 1.000000e+00\n",
       "sophhigh     1.0000000    1.0000000    1.000000e+00 1.000000e+00 1.000000e+00\n",
       "soph_typecol 0.0000000    1.0000000    1.000000e+00 1.000000e+00 1.000000e+00\n",
       "accuracyhigh 0.6564431    0.0000000    1.000000e+00 1.000000e+00 1.000000e+00\n",
       "TR_fair      0.3781053    0.7126538    0.000000e+00 1.003998e-20 2.882956e-15\n",
       "CC_fair      0.3815576    0.7189330    1.593648e-22 0.000000e+00 9.570987e-15\n",
       "LR_fair      0.3935876    0.7040483    4.970613e-17 1.709105e-16 0.000000e+00\n",
       "GRA_fair     0.3789023    0.7225898    9.656880e-24 1.991979e-25 1.218888e-16\n",
       "HOL_fair     0.3827350    0.7178894    4.285015e-22 1.085114e-20 2.943815e-18\n",
       "             GRA_fair     HOL_fair    \n",
       "CEFRB1       2.651180e-04 2.160386e-04\n",
       "CEFRB2       1.000000e+00 1.000000e+00\n",
       "CEFRC1       2.003243e-04 2.422962e-04\n",
       "sophmid      1.000000e+00 1.000000e+00\n",
       "sophhigh     1.000000e+00 1.000000e+00\n",
       "soph_typecol 1.000000e+00 1.000000e+00\n",
       "accuracyhigh 1.000000e+00 1.000000e+00\n",
       "TR_fair      6.180403e-22 2.656709e-20\n",
       "CC_fair      1.294786e-23 6.510685e-19\n",
       "LR_fair      6.947660e-15 1.736851e-16\n",
       "GRA_fair     0.000000e+00 1.003201e-19\n",
       "HOL_fair     1.644592e-21 0.000000e+00"
      ]
     },
     "metadata": {},
     "output_type": "display_data"
    }
   ],
   "source": [
    "# Get p-values\n",
    "\n",
    "M2 = model.matrix(~0+., data=ratings) %>% \n",
    "  cor()\n",
    "cor_test_mat <- corr.test(M2)$p       # Apply corr.test function\n",
    "cor_test_mat                         # Print matrix of p-values"
   ]
  },
  {
   "cell_type": "markdown",
   "metadata": {},
   "source": [
    "## Descriptive statistics"
   ]
  },
  {
   "cell_type": "code",
   "execution_count": 8,
   "metadata": {},
   "outputs": [
    {
     "data": {
      "text/plain": [
       " CEFR      soph      soph_type  accuracy     TR_fair         CC_fair     \n",
       " B1:43   low :24   non_col:53   low :64   Min.   :4.700   Min.   :4.500  \n",
       " B2:43   mid :50   col    :51   high:64   1st Qu.:5.100   1st Qu.:5.000  \n",
       " C1:42   high:54   NA's   :24             Median :6.500   Median :6.300  \n",
       "                                          Mean   :6.542   Mean   :6.362  \n",
       "                                          3rd Qu.:7.600   3rd Qu.:7.400  \n",
       "                                          Max.   :8.700   Max.   :8.500  \n",
       "    LR_fair         GRA_fair        HOL_fair    \n",
       " Min.   :5.000   Min.   :4.500   Min.   :4.500  \n",
       " 1st Qu.:5.400   1st Qu.:5.000   1st Qu.:5.000  \n",
       " Median :7.000   Median :6.300   Median :6.400  \n",
       " Mean   :6.952   Mean   :6.365   Mean   :6.396  \n",
       " 3rd Qu.:8.100   3rd Qu.:7.400   3rd Qu.:7.400  \n",
       " Max.   :9.000   Max.   :8.500   Max.   :8.500  "
      ]
     },
     "metadata": {},
     "output_type": "display_data"
    }
   ],
   "source": [
    "summary(ratings)"
   ]
  },
  {
   "cell_type": "code",
   "execution_count": 9,
   "metadata": {},
   "outputs": [
    {
     "name": "stdout",
     "output_type": "stream",
     "text": [
      "\u001b[90m# A tibble: 3 × 6\u001b[39m\n",
      "  CEFR   mean    sd median   min   max\n",
      "  \u001b[3m\u001b[90m<fct>\u001b[39m\u001b[23m \u001b[3m\u001b[90m<dbl>\u001b[39m\u001b[23m \u001b[3m\u001b[90m<dbl>\u001b[39m\u001b[23m  \u001b[3m\u001b[90m<dbl>\u001b[39m\u001b[23m \u001b[3m\u001b[90m<dbl>\u001b[39m\u001b[23m \u001b[3m\u001b[90m<dbl>\u001b[39m\u001b[23m\n",
      "\u001b[90m1\u001b[39m B1     5.34 0.196    5.4   5     5.7\n",
      "\u001b[90m2\u001b[39m B2     7.01 0.330    7     6.4   7.6\n",
      "\u001b[90m3\u001b[39m C1     8.54 0.431    8.7   7.7   9  \n"
     ]
    }
   ],
   "source": [
    "# Obtain basic descriptive statistics using tidyverse\n",
    "\n",
    "# CEFR\n",
    "desc_CEFR <- ratings %>% #tell R how the data are organized by putting original d\n",
    "group_by(CEFR) %>%  #tells R how to group the data based on a factor 'var\n",
    "   summarise_at(\"LR_fair\", #summarize function provides sd, not given by base \n",
    "               list(mean = mean.rm.na <- function(x) mean(x,na.rm=T),  \n",
    "                    sd = sd, median = median, min = min, max = max)) \n",
    "print(desc_CEFR)"
   ]
  },
  {
   "cell_type": "code",
   "execution_count": 10,
   "metadata": {},
   "outputs": [
    {
     "name": "stdout",
     "output_type": "stream",
     "text": [
      "\u001b[90m# A tibble: 3 × 6\u001b[39m\n",
      "  soph   mean    sd median   min   max\n",
      "  \u001b[3m\u001b[90m<fct>\u001b[39m\u001b[23m \u001b[3m\u001b[90m<dbl>\u001b[39m\u001b[23m \u001b[3m\u001b[90m<dbl>\u001b[39m\u001b[23m  \u001b[3m\u001b[90m<dbl>\u001b[39m\u001b[23m \u001b[3m\u001b[90m<dbl>\u001b[39m\u001b[23m \u001b[3m\u001b[90m<dbl>\u001b[39m\u001b[23m\n",
      "\u001b[90m1\u001b[39m low    6.93  1.43   6.9    5.2   8.9\n",
      "\u001b[90m2\u001b[39m mid    7.03  1.45   7.15   5     9  \n",
      "\u001b[90m3\u001b[39m high   6.89  1.23   6.9    5.4   9  \n"
     ]
    }
   ],
   "source": [
    "# Sophistication\n",
    "desc_soph <- ratings %>% #tell R how the data are organized by putting original d\n",
    "group_by(soph) %>%  #tells R how to group the data based on a factor 'var\n",
    "   summarise_at(\"LR_fair\", #summarize function provides sd, not given by base \n",
    "               list(mean = mean.rm.na <- function(x) mean(x,na.rm=T),  \n",
    "                    sd = sd, median = median, min = min, max = max)) \n",
    "print(desc_soph)"
   ]
  },
  {
   "cell_type": "code",
   "execution_count": 11,
   "metadata": {},
   "outputs": [
    {
     "name": "stdout",
     "output_type": "stream",
     "text": [
      "\u001b[90m# A tibble: 2 × 6\u001b[39m\n",
      "  accuracy  mean    sd median   min   max\n",
      "  \u001b[3m\u001b[90m<fct>\u001b[39m\u001b[23m    \u001b[3m\u001b[90m<dbl>\u001b[39m\u001b[23m \u001b[3m\u001b[90m<dbl>\u001b[39m\u001b[23m  \u001b[3m\u001b[90m<dbl>\u001b[39m\u001b[23m \u001b[3m\u001b[90m<dbl>\u001b[39m\u001b[23m \u001b[3m\u001b[90m<dbl>\u001b[39m\u001b[23m\n",
      "\u001b[90m1\u001b[39m low       6.94  1.35    7.1   5     8.9\n",
      "\u001b[90m2\u001b[39m high      6.97  1.36    6.9   5.2   9  \n"
     ]
    }
   ],
   "source": [
    "# Accuracy\n",
    "desc_acc <- ratings %>% #tell R how the data are organized by putting original d\n",
    "group_by(accuracy) %>%  #tells R how to group the data based on a factor 'var\n",
    "   summarise_at(\"LR_fair\", #summarize function provides sd, not given by base \n",
    "               list(mean = mean.rm.na <- function(x) mean(x,na.rm=T),  \n",
    "                    sd = sd, median = median, min = min, max = max)) \n",
    "print(desc_acc)"
   ]
  },
  {
   "cell_type": "code",
   "execution_count": 12,
   "metadata": {
    "scrolled": true
   },
   "outputs": [
    {
     "name": "stdout",
     "output_type": "stream",
     "text": [
      "\u001b[90m# A tibble: 3 × 6\u001b[39m\n",
      "  soph_type  mean    sd median   min   max\n",
      "  \u001b[3m\u001b[90m<fct>\u001b[39m\u001b[23m     \u001b[3m\u001b[90m<dbl>\u001b[39m\u001b[23m \u001b[3m\u001b[90m<dbl>\u001b[39m\u001b[23m  \u001b[3m\u001b[90m<dbl>\u001b[39m\u001b[23m \u001b[3m\u001b[90m<dbl>\u001b[39m\u001b[23m \u001b[3m\u001b[90m<dbl>\u001b[39m\u001b[23m\n",
      "\u001b[90m1\u001b[39m non_col    6.99  1.39    7.1   5     9  \n",
      "\u001b[90m2\u001b[39m col        6.92  1.29    6.9   5.1   8.8\n",
      "\u001b[90m3\u001b[39m \u001b[31mNA\u001b[39m         6.93  1.43    6.9   5.2   8.9\n"
     ]
    }
   ],
   "source": [
    "# Soph_type\n",
    "desc_sophtype <- ratings %>% #tell R how the data are organized by putting original d\n",
    "group_by(soph_type) %>%  #tells R how to group the data based on a factor 'var\n",
    "   summarise_at(\"LR_fair\", #summarize function provides sd, not given by base \n",
    "               list(mean = mean.rm.na <- function(x) mean(x,na.rm=T),  \n",
    "                    sd = sd, median = median, min = min, max = max)) \n",
    "print(desc_sophtype)"
   ]
  },
  {
   "cell_type": "markdown",
   "metadata": {},
   "source": [
    "## Variable coding\n",
    "\n",
    "By using contrast coding, we can see which factors matter when holding everything else constant."
   ]
  },
  {
   "cell_type": "code",
   "execution_count": 13,
   "metadata": {},
   "outputs": [
    {
     "data": {
      "text/html": [
       "<table class=\"dataframe\">\n",
       "<caption>A matrix: 3 × 2 of type dbl</caption>\n",
       "<tbody>\n",
       "\t<tr><th scope=row>1</th><td> 1</td><td> 0</td></tr>\n",
       "\t<tr><th scope=row>2</th><td> 0</td><td> 1</td></tr>\n",
       "\t<tr><th scope=row>3</th><td>-1</td><td>-1</td></tr>\n",
       "</tbody>\n",
       "</table>\n"
      ],
      "text/latex": [
       "A matrix: 3 × 2 of type dbl\n",
       "\\begin{tabular}{r|ll}\n",
       "\t1 &  1 &  0\\\\\n",
       "\t2 &  0 &  1\\\\\n",
       "\t3 & -1 & -1\\\\\n",
       "\\end{tabular}\n"
      ],
      "text/markdown": [
       "\n",
       "A matrix: 3 × 2 of type dbl\n",
       "\n",
       "| 1 |  1 |  0 |\n",
       "| 2 |  0 |  1 |\n",
       "| 3 | -1 | -1 |\n",
       "\n"
      ],
      "text/plain": [
       "  [,1] [,2]\n",
       "1  1    0  \n",
       "2  0    1  \n",
       "3 -1   -1  "
      ]
     },
     "metadata": {},
     "output_type": "display_data"
    },
    {
     "data": {
      "text/html": [
       "<table class=\"dataframe\">\n",
       "<caption>A matrix: 2 × 1 of type dbl</caption>\n",
       "<tbody>\n",
       "\t<tr><th scope=row>1</th><td> 1</td></tr>\n",
       "\t<tr><th scope=row>2</th><td>-1</td></tr>\n",
       "</tbody>\n",
       "</table>\n"
      ],
      "text/latex": [
       "A matrix: 2 × 1 of type dbl\n",
       "\\begin{tabular}{r|l}\n",
       "\t1 &  1\\\\\n",
       "\t2 & -1\\\\\n",
       "\\end{tabular}\n"
      ],
      "text/markdown": [
       "\n",
       "A matrix: 2 × 1 of type dbl\n",
       "\n",
       "| 1 |  1 |\n",
       "| 2 | -1 |\n",
       "\n"
      ],
      "text/plain": [
       "  [,1]\n",
       "1  1  \n",
       "2 -1  "
      ]
     },
     "metadata": {},
     "output_type": "display_data"
    }
   ],
   "source": [
    "# First determine whta the contrasts are\n",
    "\n",
    "contr.sum(3) # Contrasts for variables with three levels\n",
    "contr.sum(2) # Contrasts for variables with two levels"
   ]
  },
  {
   "cell_type": "code",
   "execution_count": 14,
   "metadata": {},
   "outputs": [],
   "source": [
    "# Contrast code CEFR (3 levels)\n",
    "\n",
    "contrasts(ratings$CEFR) = contr.sum(3)"
   ]
  },
  {
   "cell_type": "markdown",
   "metadata": {},
   "source": [
    "**CEFR contrast description:**  \n",
    "- rows are the three levels - row 1 = B1, row 2 = B2, row 3 = C1\n",
    "- columns are the two contrasts (3-1) - they compare 1 and -1 and ignore 0\n",
    "- column 1 (1, 0, -1) is contrast1 - compares 1 (B1) and -1 (C1), ignores 0 (B2)\n",
    "- column 2 (0, 1, -1) is contrast2 - compares 1 (B2) and -1 (C1), ignores 0 (B1)\n",
    "\n",
    "Overall:  \n",
    "- contrast 1 - B1-C1\n",
    "- contrast 2 - B2-C1"
   ]
  },
  {
   "cell_type": "code",
   "execution_count": 15,
   "metadata": {},
   "outputs": [],
   "source": [
    "# Contrast code sophistication (3 levels)\n",
    "\n",
    "contrasts(ratings$soph) = contr.sum(3)"
   ]
  },
  {
   "cell_type": "markdown",
   "metadata": {},
   "source": [
    "**Sophistication contrast description:**  \n",
    "- rows are the three levels - row 1 = low, row 2 = mid, row 3 = high\n",
    "- columns are the two contrasts (3-1) - they compare 1 and -1 and ignore 0\n",
    "- column 1 (1, 0, -1) is contrast1 - compares 1 (low) and -1 (high), ignores 0 (mid)\n",
    "- column 2 (0, 1, -1) is contrast2 - compares 1 (mid) and -1 (high), ignores 0 (low)\n",
    "\n",
    "Overall: \n",
    "- contrast 1 - low-high\n",
    "- contrast 2 - mid-high"
   ]
  },
  {
   "cell_type": "code",
   "execution_count": 16,
   "metadata": {},
   "outputs": [],
   "source": [
    "# Contrast code accuracy (2 levels)\n",
    "\n",
    "contrasts(ratings$accuracy) = contr.sum(2)"
   ]
  },
  {
   "cell_type": "markdown",
   "metadata": {},
   "source": [
    "**Accuracy contrast description:**  \n",
    "- rows are the two levels - row 1 = low, row 2 = high\n",
    "- columns are the one contrast (2-1) - they compare 1 and -1\n",
    "- column 1 (1, -1) is contrast1 - compares 1 (low) and -1 (high)\n",
    "\n",
    "Overall:  \n",
    "- contrast 1 - low-high"
   ]
  },
  {
   "cell_type": "code",
   "execution_count": 17,
   "metadata": {},
   "outputs": [],
   "source": [
    "# Contrast code soph_type (2 levels)\n",
    "\n",
    "contrasts(ratings$soph_type) = contr.sum(2)"
   ]
  },
  {
   "cell_type": "markdown",
   "metadata": {},
   "source": [
    "**Soph type contrast description:**  \n",
    "- rows are the two levels - row 1 = low, row 2 = high\n",
    "- columns are the one contrast (2-1) - they compare 1 and -1\n",
    "- column 1 (1, -1) is contrast1 - compares 1 (non-col) and -1 (col)\n",
    "\n",
    "Overall:  \n",
    "- contrast 1 - non-col - col"
   ]
  },
  {
   "cell_type": "markdown",
   "metadata": {},
   "source": [
    "## Model 1 - Lexical Resource (experimental)\n",
    "\n",
    "Experimental - all variables of interest included and motivated interactions:  \n",
    "\n",
    "Variables  \n",
    "- sophistication\n",
    "- sophistication type\n",
    "- accuracy\n",
    "- proficiency (CEFR)  \n",
    "\n",
    "Interactions  \n",
    "- CEFR and sophistication\n",
    "- CEFR and accuracy\n",
    "- sophistication and accuracy\n",
    "- sophistication and sophistication type"
   ]
  },
  {
   "cell_type": "markdown",
   "metadata": {},
   "source": [
    "#### Create model"
   ]
  },
  {
   "cell_type": "code",
   "execution_count": 18,
   "metadata": {},
   "outputs": [],
   "source": [
    "LR_exp <- lm(LR_fair ~ CEFR + TR_fair + CC_fair + GRA_fair + soph + accuracy + soph_type +\n",
    "             CEFR:soph + CEFR:accuracy + soph:accuracy + soph:soph_type, data = ratings)"
   ]
  },
  {
   "cell_type": "markdown",
   "metadata": {},
   "source": [
    "#### Model interpretation\n",
    "\n",
    "- Estimates are difficult to interpret because they are contrasts (need to be careful of + - signs)\n",
    "- Useful to see which variables are significant\n",
    "- For significant variables run post-hoc comparisons\n",
    "- For significant interactions, create table of estimated means and plot the interactions\n",
    "- Get CI figures from the tab model which pops up in different tab"
   ]
  },
  {
   "cell_type": "code",
   "execution_count": 19,
   "metadata": {},
   "outputs": [
    {
     "data": {
      "text/plain": [
       "\n",
       "Call:\n",
       "lm(formula = LR_fair ~ CEFR + TR_fair + CC_fair + GRA_fair + \n",
       "    soph + accuracy + soph_type + CEFR:soph + CEFR:accuracy + \n",
       "    soph:accuracy + soph:soph_type, data = ratings)\n",
       "\n",
       "Residuals:\n",
       "      Min        1Q    Median        3Q       Max \n",
       "-0.045508 -0.016635 -0.002512  0.015497  0.058981 \n",
       "\n",
       "Coefficients:\n",
       "                     Estimate Std. Error t value Pr(>|t|)    \n",
       "(Intercept)          0.830850   0.069382  11.975  < 2e-16 ***\n",
       "CEFR1               -0.180466   0.017737 -10.174  < 2e-16 ***\n",
       "CEFR2                0.069697   0.006651  10.479  < 2e-16 ***\n",
       "TR_fair              0.883125   0.144355   6.118 2.49e-08 ***\n",
       "CC_fair             -0.826610   0.262354  -3.151  0.00222 ** \n",
       "GRA_fair             0.878730   0.198713   4.422 2.75e-05 ***\n",
       "sophhigh             0.031867   0.006244   5.104 1.87e-06 ***\n",
       "accuracy1           -0.004920   0.004653  -1.057  0.29324    \n",
       "soph_type1          -0.021671   0.004434  -4.887 4.50e-06 ***\n",
       "CEFR1:sophhigh      -0.013969   0.009899  -1.411  0.16165    \n",
       "CEFR2:sophhigh      -0.010286   0.008699  -1.182  0.24022    \n",
       "CEFR1:accuracy1     -0.030037   0.004654  -6.454 5.57e-09 ***\n",
       "CEFR2:accuracy1      0.001490   0.004651   0.320  0.74950    \n",
       "sophhigh:accuracy1   0.008868   0.006108   1.452  0.15007    \n",
       "sophhigh:soph_type1  0.007751   0.005669   1.367  0.17496    \n",
       "---\n",
       "Signif. codes:  0 ‘***’ 0.001 ‘**’ 0.01 ‘*’ 0.05 ‘.’ 0.1 ‘ ’ 1\n",
       "\n",
       "Residual standard error: 0.02748 on 89 degrees of freedom\n",
       "  (24 observations deleted due to missingness)\n",
       "Multiple R-squared:  0.9996,\tAdjusted R-squared:  0.9996 \n",
       "F-statistic: 1.74e+04 on 14 and 89 DF,  p-value: < 2.2e-16\n"
      ]
     },
     "metadata": {},
     "output_type": "display_data"
    },
    {
     "name": "stderr",
     "output_type": "stream",
     "text": [
      "Argument 'df_method' is deprecated. Please use 'ci_method' instead.\n",
      "\n"
     ]
    }
   ],
   "source": [
    "# Summary of model\n",
    "\n",
    "summary(LR_exp)\n",
    "tab_model(LR_exp)"
   ]
  },
  {
   "cell_type": "markdown",
   "metadata": {},
   "source": [
    "### Post-hoc analyses (regressions)"
   ]
  },
  {
   "cell_type": "markdown",
   "metadata": {},
   "source": [
    "Because there is no soph_type for low soph, it is also necessary to create a separate model without soph_type, otherwise there is not contrast involving low soph."
   ]
  },
  {
   "cell_type": "code",
   "execution_count": 20,
   "metadata": {},
   "outputs": [],
   "source": [
    "# Create LR experimental model v2 without soph_type\n",
    "\n",
    "LR_exp2 <- lm(LR_fair ~ CEFR + TR_fair + CC_fair + GRA_fair + soph + accuracy +\n",
    "             CEFR:soph + CEFR:accuracy + soph:accuracy\n",
    "              , data = ratings)"
   ]
  },
  {
   "cell_type": "markdown",
   "metadata": {},
   "source": [
    "#### CEFR post-hoc analyses"
   ]
  },
  {
   "cell_type": "code",
   "execution_count": 21,
   "metadata": {},
   "outputs": [
    {
     "name": "stderr",
     "output_type": "stream",
     "text": [
      "NOTE: Results may be misleading due to involvement in interactions\n",
      "\n"
     ]
    },
    {
     "data": {
      "text/plain": [
       " contrast estimate     SE df t.ratio p.value\n",
       " B2vsB1     0.2520 0.0173 89  14.551  <.0001\n",
       " C1vsB1     0.3103 0.0312 89   9.952  <.0001\n",
       " C1vsB2     0.0583 0.0172 89   3.398  0.0030\n",
       "\n",
       "Results are averaged over the levels of: soph, accuracy, soph_type \n",
       "P value adjustment: sidak method for 3 tests "
      ]
     },
     "metadata": {},
     "output_type": "display_data"
    }
   ],
   "source": [
    "# Use emmeans for the analysis\n",
    "LR_exp_CEFR <- emmeans(LR_exp, \"CEFR\")\n",
    "\n",
    "# Specify the levels\n",
    "B2vsB1 <- c(-1, 1, 0) # compare mean in B2 to mean in B1, ignore C1\n",
    "C1vsB1 <- c(-1, 0, 1) # compare mean in C1 to mean in B1, ignore B2\n",
    "C1vsB2 <- c(0, -1, 1) # compare mean in C1 to mean in B2, ignore B1\n",
    "\n",
    "# Contrast the levels\n",
    "contrast(LR_exp_CEFR, method=list(\"B2vsB1\"=B2vsB1,\"C1vsB1\"=C1vsB1,\"C1vsB2\"=C1vsB2),adjust=\"sidak\")"
   ]
  },
  {
   "cell_type": "markdown",
   "metadata": {},
   "source": [
    "There are significant differences between CEFR levels, increasing with level."
   ]
  },
  {
   "cell_type": "markdown",
   "metadata": {},
   "source": [
    "#### Sophistication post-hoc analysis"
   ]
  },
  {
   "cell_type": "code",
   "execution_count": 22,
   "metadata": {},
   "outputs": [
    {
     "name": "stderr",
     "output_type": "stream",
     "text": [
      "NOTE: Results may be misleading due to involvement in interactions\n",
      "\n"
     ]
    },
    {
     "data": {
      "text/plain": [
       " contrast  estimate      SE  df t.ratio p.value\n",
       " midvslow    0.0324 0.01153 111   2.810  0.0175\n",
       " highvslow   0.0499 0.01033 111   4.831  <.0001\n",
       " highvsmid   0.0175 0.00904 111   1.934  0.1577\n",
       "\n",
       "Results are averaged over the levels of: CEFR, accuracy \n",
       "P value adjustment: sidak method for 3 tests "
      ]
     },
     "metadata": {},
     "output_type": "display_data"
    }
   ],
   "source": [
    "# Use emmeans for the analysis\n",
    "LR_exp_soph <- emmeans(LR_exp2, \"soph\", data=ratings)\n",
    "\n",
    "# Specify the levels\n",
    "midvslow <- c(-1, 1, 0) # compare mean in mid to mean in low, ignore high\n",
    "highvslow <- c(-1, 0, 1) # compare mean in high to mean in low, ignore mid\n",
    "highvsmid <- c(0, -1, 1) # compare mean in high to mean in mid, ignore low\n",
    "\n",
    "contrast(LR_exp_soph, method=list(\"midvslow\"=midvslow,\"highvslow\"=highvslow,\"highvsmid\"=highvsmid),adjust=\"sidak\")"
   ]
  },
  {
   "cell_type": "markdown",
   "metadata": {},
   "source": [
    "#### Sophistication type post-hoc analysis"
   ]
  },
  {
   "cell_type": "code",
   "execution_count": 23,
   "metadata": {},
   "outputs": [
    {
     "name": "stderr",
     "output_type": "stream",
     "text": [
      "NOTE: Results may be misleading due to involvement in interactions\n",
      "\n"
     ]
    },
    {
     "data": {
      "text/plain": [
       " contrast      estimate     SE df t.ratio p.value\n",
       " col_vs_noncol   0.0356 0.0062 89   5.744  <.0001\n",
       "\n",
       "Results are averaged over the levels of: CEFR, soph, accuracy "
      ]
     },
     "metadata": {},
     "output_type": "display_data"
    }
   ],
   "source": [
    "# Use emmeans for the analysis\n",
    "LR_exp_soph_type <- emmeans(LR_exp, \"soph_type\", data=ratings)\n",
    "\n",
    "# Specify the levels\n",
    "col_vs_noncol <- c(-1, 1) # compare mean in col to mean in non_col\n",
    "\n",
    "contrast(LR_exp_soph_type, method=list(\"col_vs_noncol\"=col_vs_noncol),adjust=\"sidak\")"
   ]
  },
  {
   "cell_type": "markdown",
   "metadata": {},
   "source": [
    "#### Accuracy post-hoc analysis"
   ]
  },
  {
   "cell_type": "code",
   "execution_count": 24,
   "metadata": {},
   "outputs": [
    {
     "name": "stderr",
     "output_type": "stream",
     "text": [
      "NOTE: Results may be misleading due to involvement in interactions\n",
      "\n"
     ]
    },
    {
     "data": {
      "text/plain": [
       " contrast          estimate      SE df t.ratio p.value\n",
       " highacc_vs_lowacc 0.000972 0.00618 89   0.157  0.8754\n",
       "\n",
       "Results are averaged over the levels of: CEFR, soph, soph_type "
      ]
     },
     "metadata": {},
     "output_type": "display_data"
    }
   ],
   "source": [
    "# Use emmeans for the analysis\n",
    "LR_exp_accuracy <- emmeans(LR_exp, \"accuracy\", data=ratings)\n",
    "\n",
    "# Specify the levels\n",
    "highacc_vs_lowacc <- c(-1, 1) # compare mean in col to mean in non_col\n",
    "\n",
    "contrast(LR_exp_accuracy, method=list(\"highacc_vs_lowacc\"=highacc_vs_lowacc),adjust=\"sidak\")"
   ]
  },
  {
   "cell_type": "markdown",
   "metadata": {},
   "source": [
    "#### Interactions"
   ]
  },
  {
   "cell_type": "code",
   "execution_count": 25,
   "metadata": {
    "scrolled": false
   },
   "outputs": [
    {
     "data": {
      "image/png": "[encoded data removed]",
      "text/plain": [
       "plot without title"
      ]
     },
     "metadata": {
      "image/png": {
       "height": 420,
       "width": 420
      }
     },
     "output_type": "display_data"
    }
   ],
   "source": [
    "# Plot interactions\n",
    "\n",
    "# Different panel for each CEFR, LR numeric on y-axis, soph on x-axis, map color to accuracy (or vice versa)\n",
    "emmip(LR_exp2, accuracy ~ CEFR)"
   ]
  },
  {
   "cell_type": "markdown",
   "metadata": {},
   "source": [
    "No interaction present"
   ]
  },
  {
   "cell_type": "markdown",
   "metadata": {},
   "source": [
    "## Model 2 - Lexical Resource (exploratory)\n",
    "\n",
    "Exploratory - find best-fitting model"
   ]
  },
  {
   "cell_type": "markdown",
   "metadata": {},
   "source": [
    "#### Create model"
   ]
  },
  {
   "cell_type": "code",
   "execution_count": 26,
   "metadata": {},
   "outputs": [],
   "source": [
    "# Base model just CEFR\n",
    "\n",
    "m0 <- lm(LR_fair ~ CEFR, data = ratings)"
   ]
  },
  {
   "cell_type": "code",
   "execution_count": 27,
   "metadata": {},
   "outputs": [
    {
     "data": {
      "text/plain": [
       "\n",
       "Call:\n",
       "lm(formula = LR_fair ~ CEFR, data = ratings)\n",
       "\n",
       "Residuals:\n",
       "     Min       1Q   Median       3Q      Max \n",
       "-0.84048 -0.14419  0.05581  0.25952  0.59070 \n",
       "\n",
       "Coefficients:\n",
       "            Estimate Std. Error t value Pr(>|t|)    \n",
       "(Intercept)  6.96465    0.02937 237.104   <2e-16 ***\n",
       "CEFR1       -1.62047    0.04146 -39.086   <2e-16 ***\n",
       "CEFR2        0.04465    0.04146   1.077    0.284    \n",
       "---\n",
       "Signif. codes:  0 ‘***’ 0.001 ‘**’ 0.01 ‘*’ 0.05 ‘.’ 0.1 ‘ ’ 1\n",
       "\n",
       "Residual standard error: 0.3323 on 125 degrees of freedom\n",
       "Multiple R-squared:  0.9403,\tAdjusted R-squared:  0.9393 \n",
       "F-statistic: 983.8 on 2 and 125 DF,  p-value: < 2.2e-16\n"
      ]
     },
     "metadata": {},
     "output_type": "display_data"
    }
   ],
   "source": [
    "# Summary of model\n",
    "\n",
    "summary(m0)"
   ]
  },
  {
   "cell_type": "code",
   "execution_count": 28,
   "metadata": {},
   "outputs": [
    {
     "data": {
      "text/html": [
       "<table class=\"dataframe\">\n",
       "<caption>A anova: 2 × 6</caption>\n",
       "<thead>\n",
       "\t<tr><th></th><th scope=col>Res.Df</th><th scope=col>RSS</th><th scope=col>Df</th><th scope=col>Sum of Sq</th><th scope=col>F</th><th scope=col>Pr(&gt;F)</th></tr>\n",
       "\t<tr><th></th><th scope=col>&lt;dbl&gt;</th><th scope=col>&lt;dbl&gt;</th><th scope=col>&lt;dbl&gt;</th><th scope=col>&lt;dbl&gt;</th><th scope=col>&lt;dbl&gt;</th><th scope=col>&lt;dbl&gt;</th></tr>\n",
       "</thead>\n",
       "<tbody>\n",
       "\t<tr><th scope=row>1</th><td>125</td><td>13.8035161</td><td>NA</td><td>      NA</td><td>      NA</td><td>           NA</td></tr>\n",
       "\t<tr><th scope=row>2</th><td>124</td><td> 0.3358719</td><td> 1</td><td>13.46764</td><td>4972.098</td><td>6.353605e-102</td></tr>\n",
       "</tbody>\n",
       "</table>\n"
      ],
      "text/latex": [
       "A anova: 2 × 6\n",
       "\\begin{tabular}{r|llllll}\n",
       "  & Res.Df & RSS & Df & Sum of Sq & F & Pr(>F)\\\\\n",
       "  & <dbl> & <dbl> & <dbl> & <dbl> & <dbl> & <dbl>\\\\\n",
       "\\hline\n",
       "\t1 & 125 & 13.8035161 & NA &       NA &       NA &            NA\\\\\n",
       "\t2 & 124 &  0.3358719 &  1 & 13.46764 & 4972.098 & 6.353605e-102\\\\\n",
       "\\end{tabular}\n"
      ],
      "text/markdown": [
       "\n",
       "A anova: 2 × 6\n",
       "\n",
       "| <!--/--> | Res.Df &lt;dbl&gt; | RSS &lt;dbl&gt; | Df &lt;dbl&gt; | Sum of Sq &lt;dbl&gt; | F &lt;dbl&gt; | Pr(&gt;F) &lt;dbl&gt; |\n",
       "|---|---|---|---|---|---|---|\n",
       "| 1 | 125 | 13.8035161 | NA |       NA |       NA |            NA |\n",
       "| 2 | 124 |  0.3358719 |  1 | 13.46764 | 4972.098 | 6.353605e-102 |\n",
       "\n"
      ],
      "text/plain": [
       "  Res.Df RSS        Df Sum of Sq F        Pr(>F)       \n",
       "1 125    13.8035161 NA       NA        NA            NA\n",
       "2 124     0.3358719  1 13.46764  4972.098 6.353605e-102"
      ]
     },
     "metadata": {},
     "output_type": "display_data"
    }
   ],
   "source": [
    "# Add analytic scores and compare model at each step\n",
    "\n",
    "# TR\n",
    "\n",
    "m1 <- lm(LR_fair ~ CEFR + TR_fair, data = ratings)\n",
    "\n",
    "anova(m0,m1)"
   ]
  },
  {
   "cell_type": "code",
   "execution_count": 29,
   "metadata": {},
   "outputs": [
    {
     "data": {
      "text/html": [
       "<table class=\"dataframe\">\n",
       "<caption>A anova: 2 × 6</caption>\n",
       "<thead>\n",
       "\t<tr><th></th><th scope=col>Res.Df</th><th scope=col>RSS</th><th scope=col>Df</th><th scope=col>Sum of Sq</th><th scope=col>F</th><th scope=col>Pr(&gt;F)</th></tr>\n",
       "\t<tr><th></th><th scope=col>&lt;dbl&gt;</th><th scope=col>&lt;dbl&gt;</th><th scope=col>&lt;dbl&gt;</th><th scope=col>&lt;dbl&gt;</th><th scope=col>&lt;dbl&gt;</th><th scope=col>&lt;dbl&gt;</th></tr>\n",
       "</thead>\n",
       "<tbody>\n",
       "\t<tr><th scope=row>1</th><td>124</td><td>0.3358719</td><td>NA</td><td>        NA</td><td>      NA</td><td>         NA</td></tr>\n",
       "\t<tr><th scope=row>2</th><td>123</td><td>0.3006994</td><td> 1</td><td>0.03517248</td><td>14.38717</td><td>0.000232117</td></tr>\n",
       "</tbody>\n",
       "</table>\n"
      ],
      "text/latex": [
       "A anova: 2 × 6\n",
       "\\begin{tabular}{r|llllll}\n",
       "  & Res.Df & RSS & Df & Sum of Sq & F & Pr(>F)\\\\\n",
       "  & <dbl> & <dbl> & <dbl> & <dbl> & <dbl> & <dbl>\\\\\n",
       "\\hline\n",
       "\t1 & 124 & 0.3358719 & NA &         NA &       NA &          NA\\\\\n",
       "\t2 & 123 & 0.3006994 &  1 & 0.03517248 & 14.38717 & 0.000232117\\\\\n",
       "\\end{tabular}\n"
      ],
      "text/markdown": [
       "\n",
       "A anova: 2 × 6\n",
       "\n",
       "| <!--/--> | Res.Df &lt;dbl&gt; | RSS &lt;dbl&gt; | Df &lt;dbl&gt; | Sum of Sq &lt;dbl&gt; | F &lt;dbl&gt; | Pr(&gt;F) &lt;dbl&gt; |\n",
       "|---|---|---|---|---|---|---|\n",
       "| 1 | 124 | 0.3358719 | NA |         NA |       NA |          NA |\n",
       "| 2 | 123 | 0.3006994 |  1 | 0.03517248 | 14.38717 | 0.000232117 |\n",
       "\n"
      ],
      "text/plain": [
       "  Res.Df RSS       Df Sum of Sq  F        Pr(>F)     \n",
       "1 124    0.3358719 NA         NA       NA          NA\n",
       "2 123    0.3006994  1 0.03517248 14.38717 0.000232117"
      ]
     },
     "metadata": {},
     "output_type": "display_data"
    }
   ],
   "source": [
    "# CC\n",
    "\n",
    "m2 <- lm(LR_fair ~ CEFR + TR_fair + CC_fair, data = ratings)\n",
    "\n",
    "anova(m1,m2)"
   ]
  },
  {
   "cell_type": "code",
   "execution_count": 30,
   "metadata": {},
   "outputs": [
    {
     "data": {
      "text/html": [
       "<table class=\"dataframe\">\n",
       "<caption>A anova: 2 × 6</caption>\n",
       "<thead>\n",
       "\t<tr><th></th><th scope=col>Res.Df</th><th scope=col>RSS</th><th scope=col>Df</th><th scope=col>Sum of Sq</th><th scope=col>F</th><th scope=col>Pr(&gt;F)</th></tr>\n",
       "\t<tr><th></th><th scope=col>&lt;dbl&gt;</th><th scope=col>&lt;dbl&gt;</th><th scope=col>&lt;dbl&gt;</th><th scope=col>&lt;dbl&gt;</th><th scope=col>&lt;dbl&gt;</th><th scope=col>&lt;dbl&gt;</th></tr>\n",
       "</thead>\n",
       "<tbody>\n",
       "\t<tr><th scope=row>1</th><td>123</td><td>0.3006994</td><td>NA</td><td>        NA</td><td>      NA</td><td>          NA</td></tr>\n",
       "\t<tr><th scope=row>2</th><td>122</td><td>0.2731331</td><td> 1</td><td>0.02756632</td><td>12.31301</td><td>0.0006307559</td></tr>\n",
       "</tbody>\n",
       "</table>\n"
      ],
      "text/latex": [
       "A anova: 2 × 6\n",
       "\\begin{tabular}{r|llllll}\n",
       "  & Res.Df & RSS & Df & Sum of Sq & F & Pr(>F)\\\\\n",
       "  & <dbl> & <dbl> & <dbl> & <dbl> & <dbl> & <dbl>\\\\\n",
       "\\hline\n",
       "\t1 & 123 & 0.3006994 & NA &         NA &       NA &           NA\\\\\n",
       "\t2 & 122 & 0.2731331 &  1 & 0.02756632 & 12.31301 & 0.0006307559\\\\\n",
       "\\end{tabular}\n"
      ],
      "text/markdown": [
       "\n",
       "A anova: 2 × 6\n",
       "\n",
       "| <!--/--> | Res.Df &lt;dbl&gt; | RSS &lt;dbl&gt; | Df &lt;dbl&gt; | Sum of Sq &lt;dbl&gt; | F &lt;dbl&gt; | Pr(&gt;F) &lt;dbl&gt; |\n",
       "|---|---|---|---|---|---|---|\n",
       "| 1 | 123 | 0.3006994 | NA |         NA |       NA |           NA |\n",
       "| 2 | 122 | 0.2731331 |  1 | 0.02756632 | 12.31301 | 0.0006307559 |\n",
       "\n"
      ],
      "text/plain": [
       "  Res.Df RSS       Df Sum of Sq  F        Pr(>F)      \n",
       "1 123    0.3006994 NA         NA       NA           NA\n",
       "2 122    0.2731331  1 0.02756632 12.31301 0.0006307559"
      ]
     },
     "metadata": {},
     "output_type": "display_data"
    }
   ],
   "source": [
    "# GRA\n",
    "\n",
    "m3 <- lm(LR_fair ~ CEFR + TR_fair + CC_fair + GRA_fair, data = ratings)\n",
    "\n",
    "anova(m2,m3)"
   ]
  },
  {
   "cell_type": "code",
   "execution_count": 31,
   "metadata": {},
   "outputs": [
    {
     "data": {
      "text/html": [
       "<table class=\"dataframe\">\n",
       "<caption>A anova: 2 × 6</caption>\n",
       "<thead>\n",
       "\t<tr><th></th><th scope=col>Res.Df</th><th scope=col>RSS</th><th scope=col>Df</th><th scope=col>Sum of Sq</th><th scope=col>F</th><th scope=col>Pr(&gt;F)</th></tr>\n",
       "\t<tr><th></th><th scope=col>&lt;dbl&gt;</th><th scope=col>&lt;dbl&gt;</th><th scope=col>&lt;dbl&gt;</th><th scope=col>&lt;dbl&gt;</th><th scope=col>&lt;dbl&gt;</th><th scope=col>&lt;dbl&gt;</th></tr>\n",
       "</thead>\n",
       "<tbody>\n",
       "\t<tr><th scope=row>1</th><td>122</td><td>0.2731331</td><td>NA</td><td>        NA</td><td>      NA</td><td>          NA</td></tr>\n",
       "\t<tr><th scope=row>2</th><td>120</td><td>0.2308319</td><td> 2</td><td>0.04230116</td><td>10.99532</td><td>4.123762e-05</td></tr>\n",
       "</tbody>\n",
       "</table>\n"
      ],
      "text/latex": [
       "A anova: 2 × 6\n",
       "\\begin{tabular}{r|llllll}\n",
       "  & Res.Df & RSS & Df & Sum of Sq & F & Pr(>F)\\\\\n",
       "  & <dbl> & <dbl> & <dbl> & <dbl> & <dbl> & <dbl>\\\\\n",
       "\\hline\n",
       "\t1 & 122 & 0.2731331 & NA &         NA &       NA &           NA\\\\\n",
       "\t2 & 120 & 0.2308319 &  2 & 0.04230116 & 10.99532 & 4.123762e-05\\\\\n",
       "\\end{tabular}\n"
      ],
      "text/markdown": [
       "\n",
       "A anova: 2 × 6\n",
       "\n",
       "| <!--/--> | Res.Df &lt;dbl&gt; | RSS &lt;dbl&gt; | Df &lt;dbl&gt; | Sum of Sq &lt;dbl&gt; | F &lt;dbl&gt; | Pr(&gt;F) &lt;dbl&gt; |\n",
       "|---|---|---|---|---|---|---|\n",
       "| 1 | 122 | 0.2731331 | NA |         NA |       NA |           NA |\n",
       "| 2 | 120 | 0.2308319 |  2 | 0.04230116 | 10.99532 | 4.123762e-05 |\n",
       "\n"
      ],
      "text/plain": [
       "  Res.Df RSS       Df Sum of Sq  F        Pr(>F)      \n",
       "1 122    0.2731331 NA         NA       NA           NA\n",
       "2 120    0.2308319  2 0.04230116 10.99532 4.123762e-05"
      ]
     },
     "metadata": {},
     "output_type": "display_data"
    }
   ],
   "source": [
    "# Soph\n",
    "\n",
    "m4 <- lm(LR_fair ~ CEFR + TR_fair + CC_fair + GRA_fair + soph, data = ratings)\n",
    "\n",
    "anova(m3,m4)"
   ]
  },
  {
   "cell_type": "code",
   "execution_count": 32,
   "metadata": {},
   "outputs": [
    {
     "data": {
      "text/html": [
       "<table class=\"dataframe\">\n",
       "<caption>A anova: 2 × 6</caption>\n",
       "<thead>\n",
       "\t<tr><th></th><th scope=col>Res.Df</th><th scope=col>RSS</th><th scope=col>Df</th><th scope=col>Sum of Sq</th><th scope=col>F</th><th scope=col>Pr(&gt;F)</th></tr>\n",
       "\t<tr><th></th><th scope=col>&lt;dbl&gt;</th><th scope=col>&lt;dbl&gt;</th><th scope=col>&lt;dbl&gt;</th><th scope=col>&lt;dbl&gt;</th><th scope=col>&lt;dbl&gt;</th><th scope=col>&lt;dbl&gt;</th></tr>\n",
       "</thead>\n",
       "<tbody>\n",
       "\t<tr><th scope=row>1</th><td>120</td><td>0.2308319</td><td>NA</td><td>         NA</td><td>       NA</td><td>       NA</td></tr>\n",
       "\t<tr><th scope=row>2</th><td>119</td><td>0.2298236</td><td> 1</td><td>0.001008296</td><td>0.5220841</td><td>0.4713716</td></tr>\n",
       "</tbody>\n",
       "</table>\n"
      ],
      "text/latex": [
       "A anova: 2 × 6\n",
       "\\begin{tabular}{r|llllll}\n",
       "  & Res.Df & RSS & Df & Sum of Sq & F & Pr(>F)\\\\\n",
       "  & <dbl> & <dbl> & <dbl> & <dbl> & <dbl> & <dbl>\\\\\n",
       "\\hline\n",
       "\t1 & 120 & 0.2308319 & NA &          NA &        NA &        NA\\\\\n",
       "\t2 & 119 & 0.2298236 &  1 & 0.001008296 & 0.5220841 & 0.4713716\\\\\n",
       "\\end{tabular}\n"
      ],
      "text/markdown": [
       "\n",
       "A anova: 2 × 6\n",
       "\n",
       "| <!--/--> | Res.Df &lt;dbl&gt; | RSS &lt;dbl&gt; | Df &lt;dbl&gt; | Sum of Sq &lt;dbl&gt; | F &lt;dbl&gt; | Pr(&gt;F) &lt;dbl&gt; |\n",
       "|---|---|---|---|---|---|---|\n",
       "| 1 | 120 | 0.2308319 | NA |          NA |        NA |        NA |\n",
       "| 2 | 119 | 0.2298236 |  1 | 0.001008296 | 0.5220841 | 0.4713716 |\n",
       "\n"
      ],
      "text/plain": [
       "  Res.Df RSS       Df Sum of Sq   F         Pr(>F)   \n",
       "1 120    0.2308319 NA          NA        NA        NA\n",
       "2 119    0.2298236  1 0.001008296 0.5220841 0.4713716"
      ]
     },
     "metadata": {},
     "output_type": "display_data"
    }
   ],
   "source": [
    "# Accuracy\n",
    "\n",
    "m5 <- lm(LR_fair ~ CEFR + TR_fair + CC_fair + GRA_fair + soph + accuracy, data = ratings)\n",
    "\n",
    "anova(m4,m5)"
   ]
  },
  {
   "cell_type": "code",
   "execution_count": 33,
   "metadata": {},
   "outputs": [
    {
     "data": {
      "text/html": [
       "<table class=\"dataframe\">\n",
       "<caption>A anova: 2 × 6</caption>\n",
       "<thead>\n",
       "\t<tr><th></th><th scope=col>Res.Df</th><th scope=col>RSS</th><th scope=col>Df</th><th scope=col>Sum of Sq</th><th scope=col>F</th><th scope=col>Pr(&gt;F)</th></tr>\n",
       "\t<tr><th></th><th scope=col>&lt;dbl&gt;</th><th scope=col>&lt;dbl&gt;</th><th scope=col>&lt;dbl&gt;</th><th scope=col>&lt;dbl&gt;</th><th scope=col>&lt;dbl&gt;</th><th scope=col>&lt;dbl&gt;</th></tr>\n",
       "</thead>\n",
       "<tbody>\n",
       "\t<tr><th scope=row>1</th><td>97</td><td>0.1523553</td><td>NA</td><td>        NA</td><td>      NA</td><td>          NA</td></tr>\n",
       "\t<tr><th scope=row>2</th><td>96</td><td>0.1328779</td><td> 1</td><td>0.01947736</td><td>14.07176</td><td>0.0003010476</td></tr>\n",
       "</tbody>\n",
       "</table>\n"
      ],
      "text/latex": [
       "A anova: 2 × 6\n",
       "\\begin{tabular}{r|llllll}\n",
       "  & Res.Df & RSS & Df & Sum of Sq & F & Pr(>F)\\\\\n",
       "  & <dbl> & <dbl> & <dbl> & <dbl> & <dbl> & <dbl>\\\\\n",
       "\\hline\n",
       "\t1 & 97 & 0.1523553 & NA &         NA &       NA &           NA\\\\\n",
       "\t2 & 96 & 0.1328779 &  1 & 0.01947736 & 14.07176 & 0.0003010476\\\\\n",
       "\\end{tabular}\n"
      ],
      "text/markdown": [
       "\n",
       "A anova: 2 × 6\n",
       "\n",
       "| <!--/--> | Res.Df &lt;dbl&gt; | RSS &lt;dbl&gt; | Df &lt;dbl&gt; | Sum of Sq &lt;dbl&gt; | F &lt;dbl&gt; | Pr(&gt;F) &lt;dbl&gt; |\n",
       "|---|---|---|---|---|---|---|\n",
       "| 1 | 97 | 0.1523553 | NA |         NA |       NA |           NA |\n",
       "| 2 | 96 | 0.1328779 |  1 | 0.01947736 | 14.07176 | 0.0003010476 |\n",
       "\n"
      ],
      "text/plain": [
       "  Res.Df RSS       Df Sum of Sq  F        Pr(>F)      \n",
       "1 97     0.1523553 NA         NA       NA           NA\n",
       "2 96     0.1328779  1 0.01947736 14.07176 0.0003010476"
      ]
     },
     "metadata": {},
     "output_type": "display_data"
    }
   ],
   "source": [
    "# Soph_type\n",
    "\n",
    "m6 <- lm(LR_fair ~ CEFR + TR_fair + CC_fair + GRA_fair + soph + soph_type, data = ratings)\n",
    "\n",
    "m4 <- lm(LR_fair ~ CEFR + TR_fair + CC_fair + GRA_fair + soph, data = na.exclude(ratings))\n",
    "\n",
    "anova(m4,m6)"
   ]
  },
  {
   "cell_type": "code",
   "execution_count": 34,
   "metadata": {},
   "outputs": [
    {
     "data": {
      "text/html": [
       "<table class=\"dataframe\">\n",
       "<caption>A anova: 2 × 6</caption>\n",
       "<thead>\n",
       "\t<tr><th></th><th scope=col>Res.Df</th><th scope=col>RSS</th><th scope=col>Df</th><th scope=col>Sum of Sq</th><th scope=col>F</th><th scope=col>Pr(&gt;F)</th></tr>\n",
       "\t<tr><th></th><th scope=col>&lt;dbl&gt;</th><th scope=col>&lt;dbl&gt;</th><th scope=col>&lt;dbl&gt;</th><th scope=col>&lt;dbl&gt;</th><th scope=col>&lt;dbl&gt;</th><th scope=col>&lt;dbl&gt;</th></tr>\n",
       "</thead>\n",
       "<tbody>\n",
       "\t<tr><th scope=row>1</th><td>96</td><td>0.1328779</td><td>NA</td><td>        NA</td><td>      NA</td><td>         NA</td></tr>\n",
       "\t<tr><th scope=row>2</th><td>94</td><td>0.1179310</td><td> 2</td><td>0.01494687</td><td>5.956896</td><td>0.003666407</td></tr>\n",
       "</tbody>\n",
       "</table>\n"
      ],
      "text/latex": [
       "A anova: 2 × 6\n",
       "\\begin{tabular}{r|llllll}\n",
       "  & Res.Df & RSS & Df & Sum of Sq & F & Pr(>F)\\\\\n",
       "  & <dbl> & <dbl> & <dbl> & <dbl> & <dbl> & <dbl>\\\\\n",
       "\\hline\n",
       "\t1 & 96 & 0.1328779 & NA &         NA &       NA &          NA\\\\\n",
       "\t2 & 94 & 0.1179310 &  2 & 0.01494687 & 5.956896 & 0.003666407\\\\\n",
       "\\end{tabular}\n"
      ],
      "text/markdown": [
       "\n",
       "A anova: 2 × 6\n",
       "\n",
       "| <!--/--> | Res.Df &lt;dbl&gt; | RSS &lt;dbl&gt; | Df &lt;dbl&gt; | Sum of Sq &lt;dbl&gt; | F &lt;dbl&gt; | Pr(&gt;F) &lt;dbl&gt; |\n",
       "|---|---|---|---|---|---|---|\n",
       "| 1 | 96 | 0.1328779 | NA |         NA |       NA |          NA |\n",
       "| 2 | 94 | 0.1179310 |  2 | 0.01494687 | 5.956896 | 0.003666407 |\n",
       "\n"
      ],
      "text/plain": [
       "  Res.Df RSS       Df Sum of Sq  F        Pr(>F)     \n",
       "1 96     0.1328779 NA         NA       NA          NA\n",
       "2 94     0.1179310  2 0.01494687 5.956896 0.003666407"
      ]
     },
     "metadata": {},
     "output_type": "display_data"
    }
   ],
   "source": [
    "# CEFR:soph interaction\n",
    "\n",
    "m7 <- lm(LR_fair ~ CEFR + TR_fair + CC_fair + GRA_fair + soph + soph_type +\n",
    "         CEFR:soph, data = ratings)\n",
    "\n",
    "anova(m6,m7)"
   ]
  },
  {
   "cell_type": "code",
   "execution_count": 35,
   "metadata": {},
   "outputs": [
    {
     "data": {
      "text/html": [
       "<table class=\"dataframe\">\n",
       "<caption>A anova: 2 × 6</caption>\n",
       "<thead>\n",
       "\t<tr><th></th><th scope=col>Res.Df</th><th scope=col>RSS</th><th scope=col>Df</th><th scope=col>Sum of Sq</th><th scope=col>F</th><th scope=col>Pr(&gt;F)</th></tr>\n",
       "\t<tr><th></th><th scope=col>&lt;dbl&gt;</th><th scope=col>&lt;dbl&gt;</th><th scope=col>&lt;dbl&gt;</th><th scope=col>&lt;dbl&gt;</th><th scope=col>&lt;dbl&gt;</th><th scope=col>&lt;dbl&gt;</th></tr>\n",
       "</thead>\n",
       "<tbody>\n",
       "\t<tr><th scope=row>1</th><td>94</td><td>0.11793105</td><td>NA</td><td>        NA</td><td>      NA</td><td>          NA</td></tr>\n",
       "\t<tr><th scope=row>2</th><td>91</td><td>0.07034367</td><td> 3</td><td>0.04758738</td><td>20.52045</td><td>3.050348e-10</td></tr>\n",
       "</tbody>\n",
       "</table>\n"
      ],
      "text/latex": [
       "A anova: 2 × 6\n",
       "\\begin{tabular}{r|llllll}\n",
       "  & Res.Df & RSS & Df & Sum of Sq & F & Pr(>F)\\\\\n",
       "  & <dbl> & <dbl> & <dbl> & <dbl> & <dbl> & <dbl>\\\\\n",
       "\\hline\n",
       "\t1 & 94 & 0.11793105 & NA &         NA &       NA &           NA\\\\\n",
       "\t2 & 91 & 0.07034367 &  3 & 0.04758738 & 20.52045 & 3.050348e-10\\\\\n",
       "\\end{tabular}\n"
      ],
      "text/markdown": [
       "\n",
       "A anova: 2 × 6\n",
       "\n",
       "| <!--/--> | Res.Df &lt;dbl&gt; | RSS &lt;dbl&gt; | Df &lt;dbl&gt; | Sum of Sq &lt;dbl&gt; | F &lt;dbl&gt; | Pr(&gt;F) &lt;dbl&gt; |\n",
       "|---|---|---|---|---|---|---|\n",
       "| 1 | 94 | 0.11793105 | NA |         NA |       NA |           NA |\n",
       "| 2 | 91 | 0.07034367 |  3 | 0.04758738 | 20.52045 | 3.050348e-10 |\n",
       "\n"
      ],
      "text/plain": [
       "  Res.Df RSS        Df Sum of Sq  F        Pr(>F)      \n",
       "1 94     0.11793105 NA         NA       NA           NA\n",
       "2 91     0.07034367  3 0.04758738 20.52045 3.050348e-10"
      ]
     },
     "metadata": {},
     "output_type": "display_data"
    }
   ],
   "source": [
    "# CEFR:accuracy interaction\n",
    "\n",
    "m8 <- lm(LR_fair ~ CEFR + TR_fair + CC_fair + GRA_fair + soph + soph_type +\n",
    "         CEFR:soph + CEFR:accuracy, data = ratings)\n",
    "\n",
    "anova(m7,m8)"
   ]
  },
  {
   "cell_type": "code",
   "execution_count": 36,
   "metadata": {},
   "outputs": [
    {
     "data": {
      "text/html": [
       "<table class=\"dataframe\">\n",
       "<caption>A anova: 2 × 6</caption>\n",
       "<thead>\n",
       "\t<tr><th></th><th scope=col>Res.Df</th><th scope=col>RSS</th><th scope=col>Df</th><th scope=col>Sum of Sq</th><th scope=col>F</th><th scope=col>Pr(&gt;F)</th></tr>\n",
       "\t<tr><th></th><th scope=col>&lt;dbl&gt;</th><th scope=col>&lt;dbl&gt;</th><th scope=col>&lt;dbl&gt;</th><th scope=col>&lt;dbl&gt;</th><th scope=col>&lt;dbl&gt;</th><th scope=col>&lt;dbl&gt;</th></tr>\n",
       "</thead>\n",
       "<tbody>\n",
       "\t<tr><th scope=row>1</th><td>91</td><td>0.07034367</td><td>NA</td><td>         NA</td><td>      NA</td><td>       NA</td></tr>\n",
       "\t<tr><th scope=row>2</th><td>90</td><td>0.06860376</td><td> 1</td><td>0.001739909</td><td>2.282554</td><td>0.1343395</td></tr>\n",
       "</tbody>\n",
       "</table>\n"
      ],
      "text/latex": [
       "A anova: 2 × 6\n",
       "\\begin{tabular}{r|llllll}\n",
       "  & Res.Df & RSS & Df & Sum of Sq & F & Pr(>F)\\\\\n",
       "  & <dbl> & <dbl> & <dbl> & <dbl> & <dbl> & <dbl>\\\\\n",
       "\\hline\n",
       "\t1 & 91 & 0.07034367 & NA &          NA &       NA &        NA\\\\\n",
       "\t2 & 90 & 0.06860376 &  1 & 0.001739909 & 2.282554 & 0.1343395\\\\\n",
       "\\end{tabular}\n"
      ],
      "text/markdown": [
       "\n",
       "A anova: 2 × 6\n",
       "\n",
       "| <!--/--> | Res.Df &lt;dbl&gt; | RSS &lt;dbl&gt; | Df &lt;dbl&gt; | Sum of Sq &lt;dbl&gt; | F &lt;dbl&gt; | Pr(&gt;F) &lt;dbl&gt; |\n",
       "|---|---|---|---|---|---|---|\n",
       "| 1 | 91 | 0.07034367 | NA |          NA |       NA |        NA |\n",
       "| 2 | 90 | 0.06860376 |  1 | 0.001739909 | 2.282554 | 0.1343395 |\n",
       "\n"
      ],
      "text/plain": [
       "  Res.Df RSS        Df Sum of Sq   F        Pr(>F)   \n",
       "1 91     0.07034367 NA          NA       NA        NA\n",
       "2 90     0.06860376  1 0.001739909 2.282554 0.1343395"
      ]
     },
     "metadata": {},
     "output_type": "display_data"
    }
   ],
   "source": [
    "# soph:accuracy interaction\n",
    "\n",
    "m9 <- lm(LR_fair ~ CEFR + TR_fair + CC_fair + GRA_fair + soph + soph_type +\n",
    "         CEFR:soph + CEFR:accuracy + soph:accuracy, data = ratings)\n",
    "\n",
    "anova(m8,m9)"
   ]
  },
  {
   "cell_type": "code",
   "execution_count": 37,
   "metadata": {},
   "outputs": [
    {
     "data": {
      "text/html": [
       "<table class=\"dataframe\">\n",
       "<caption>A anova: 2 × 6</caption>\n",
       "<thead>\n",
       "\t<tr><th></th><th scope=col>Res.Df</th><th scope=col>RSS</th><th scope=col>Df</th><th scope=col>Sum of Sq</th><th scope=col>F</th><th scope=col>Pr(&gt;F)</th></tr>\n",
       "\t<tr><th></th><th scope=col>&lt;dbl&gt;</th><th scope=col>&lt;dbl&gt;</th><th scope=col>&lt;dbl&gt;</th><th scope=col>&lt;dbl&gt;</th><th scope=col>&lt;dbl&gt;</th><th scope=col>&lt;dbl&gt;</th></tr>\n",
       "</thead>\n",
       "<tbody>\n",
       "\t<tr><th scope=row>1</th><td>91</td><td>0.07034367</td><td>NA</td><td>        NA</td><td>     NA</td><td>       NA</td></tr>\n",
       "\t<tr><th scope=row>2</th><td>90</td><td>0.06878353</td><td> 1</td><td>0.00156014</td><td>2.04137</td><td>0.1565333</td></tr>\n",
       "</tbody>\n",
       "</table>\n"
      ],
      "text/latex": [
       "A anova: 2 × 6\n",
       "\\begin{tabular}{r|llllll}\n",
       "  & Res.Df & RSS & Df & Sum of Sq & F & Pr(>F)\\\\\n",
       "  & <dbl> & <dbl> & <dbl> & <dbl> & <dbl> & <dbl>\\\\\n",
       "\\hline\n",
       "\t1 & 91 & 0.07034367 & NA &         NA &      NA &        NA\\\\\n",
       "\t2 & 90 & 0.06878353 &  1 & 0.00156014 & 2.04137 & 0.1565333\\\\\n",
       "\\end{tabular}\n"
      ],
      "text/markdown": [
       "\n",
       "A anova: 2 × 6\n",
       "\n",
       "| <!--/--> | Res.Df &lt;dbl&gt; | RSS &lt;dbl&gt; | Df &lt;dbl&gt; | Sum of Sq &lt;dbl&gt; | F &lt;dbl&gt; | Pr(&gt;F) &lt;dbl&gt; |\n",
       "|---|---|---|---|---|---|---|\n",
       "| 1 | 91 | 0.07034367 | NA |         NA |      NA |        NA |\n",
       "| 2 | 90 | 0.06878353 |  1 | 0.00156014 | 2.04137 | 0.1565333 |\n",
       "\n"
      ],
      "text/plain": [
       "  Res.Df RSS        Df Sum of Sq  F       Pr(>F)   \n",
       "1 91     0.07034367 NA         NA      NA        NA\n",
       "2 90     0.06878353  1 0.00156014 2.04137 0.1565333"
      ]
     },
     "metadata": {},
     "output_type": "display_data"
    }
   ],
   "source": [
    "# soph:soph_type interaction\n",
    "\n",
    "m10 <- lm(LR_fair ~ CEFR + TR_fair + CC_fair + GRA_fair + soph + soph_type +\n",
    "         CEFR:soph + CEFR:accuracy + soph:soph_type, data = ratings)\n",
    "\n",
    "anova(m8,m10)"
   ]
  },
  {
   "cell_type": "code",
   "execution_count": 38,
   "metadata": {},
   "outputs": [
    {
     "data": {
      "text/plain": [
       "\n",
       "Call:\n",
       "lm(formula = LR_fair ~ CEFR + TR_fair + CC_fair + GRA_fair + \n",
       "    soph + soph_type + CEFR:soph + CEFR:accuracy, data = ratings)\n",
       "\n",
       "Residuals:\n",
       "      Min        1Q    Median        3Q       Max \n",
       "-0.046964 -0.016717 -0.005294  0.019943  0.053347 \n",
       "\n",
       "Coefficients:\n",
       "                  Estimate Std. Error t value Pr(>|t|)    \n",
       "(Intercept)       0.789439   0.064813  12.180  < 2e-16 ***\n",
       "CEFR1            -0.169784   0.016478 -10.303  < 2e-16 ***\n",
       "CEFR2             0.069512   0.006537  10.633  < 2e-16 ***\n",
       "TR_fair           0.886634   0.145575   6.091 2.65e-08 ***\n",
       "CC_fair          -0.790293   0.254221  -3.109  0.00251 ** \n",
       "GRA_fair          0.845276   0.189640   4.457 2.36e-05 ***\n",
       "sophhigh          0.032668   0.006235   5.239 1.04e-06 ***\n",
       "soph_type1       -0.017671   0.003104  -5.692 1.52e-07 ***\n",
       "CEFR1:sophhigh   -0.016521   0.009852  -1.677  0.09697 .  \n",
       "CEFR2:sophhigh   -0.009452   0.008626  -1.096  0.27607    \n",
       "CEFRB1:accuracy1 -0.029322   0.006079  -4.824 5.63e-06 ***\n",
       "CEFRB2:accuracy1  0.000291   0.005265   0.055  0.95605    \n",
       "CEFRC1:accuracy1  0.029320   0.005012   5.850 7.65e-08 ***\n",
       "---\n",
       "Signif. codes:  0 ‘***’ 0.001 ‘**’ 0.01 ‘*’ 0.05 ‘.’ 0.1 ‘ ’ 1\n",
       "\n",
       "Residual standard error: 0.0278 on 91 degrees of freedom\n",
       "  (24 observations deleted due to missingness)\n",
       "Multiple R-squared:  0.9996,\tAdjusted R-squared:  0.9996 \n",
       "F-statistic: 1.983e+04 on 12 and 91 DF,  p-value: < 2.2e-16\n"
      ]
     },
     "metadata": {},
     "output_type": "display_data"
    }
   ],
   "source": [
    "# Final exploratory model\n",
    "summary(m8)"
   ]
  },
  {
   "cell_type": "markdown",
   "metadata": {},
   "source": [
    "## Model 3 - Holistic score\n",
    "\n",
    "Experimental - all variables of interest included and motivated interactions:  \n",
    "\n",
    "Variables  \n",
    "- sophistication\n",
    "- sophistication type\n",
    "- accuracy\n",
    "- proficiency (CEFR)  \n",
    "\n",
    "Interactions  \n",
    "- CEFR and sophistication\n",
    "- CEFR and accuracy\n",
    "- sophistication and accuracy\n",
    "- sophistication and sophistication type"
   ]
  },
  {
   "cell_type": "markdown",
   "metadata": {},
   "source": [
    "#### Create model"
   ]
  },
  {
   "cell_type": "code",
   "execution_count": 39,
   "metadata": {},
   "outputs": [],
   "source": [
    "HOL_exp <- lm(HOL_fair ~ CEFR + TR_fair + CC_fair + LR_fair + GRA_fair + soph + accuracy + soph_type +\n",
    "             CEFR:soph + CEFR:accuracy + soph:accuracy + soph:soph_type, data = ratings)"
   ]
  },
  {
   "cell_type": "markdown",
   "metadata": {},
   "source": [
    "#### Model interpretation\n",
    "\n",
    "- Estimates are difficult to interpret because they are contrasts (need to be careful of + - signs)\n",
    "- Useful to see which variables are significant\n",
    "- For significant variables run post-hoc comparisons\n",
    "- For significant interactions, create table of estimated means and plot the interactions\n",
    "- Get CI figures from the tab model which pops up in different tab"
   ]
  },
  {
   "cell_type": "code",
   "execution_count": 40,
   "metadata": {},
   "outputs": [
    {
     "data": {
      "text/plain": [
       "\n",
       "Call:\n",
       "lm(formula = HOL_fair ~ CEFR + TR_fair + CC_fair + LR_fair + \n",
       "    GRA_fair + soph + accuracy + soph_type + CEFR:soph + CEFR:accuracy + \n",
       "    soph:accuracy + soph:soph_type, data = ratings)\n",
       "\n",
       "Residuals:\n",
       "      Min        1Q    Median        3Q       Max \n",
       "-0.077027 -0.024063  0.004735  0.025469  0.045943 \n",
       "\n",
       "Coefficients:\n",
       "                      Estimate Std. Error t value Pr(>|t|)    \n",
       "(Intercept)         -0.4793056  0.1357254  -3.531 0.000660 ***\n",
       "CEFR1                0.1231784  0.0315806   3.900 0.000187 ***\n",
       "CEFR2                0.0070562  0.0120340   0.586 0.559135    \n",
       "TR_fair              0.5451426  0.2082791   2.617 0.010430 *  \n",
       "CC_fair              0.0981681  0.3348420   0.293 0.770077    \n",
       "LR_fair              0.1198438  0.1283201   0.934 0.352888    \n",
       "GRA_fair             0.2902912  0.2656718   1.093 0.277522    \n",
       "sophhigh             0.0153211  0.0085935   1.783 0.078055 .  \n",
       "accuracy1           -0.0005497  0.0056681  -0.097 0.922967    \n",
       "soph_type1          -0.0154043  0.0060457  -2.548 0.012570 *  \n",
       "CEFR1:sophhigh      -0.0521594  0.0121162  -4.305 4.32e-05 ***\n",
       "CEFR2:sophhigh       0.0130212  0.0106137   1.227 0.223158    \n",
       "CEFR1:accuracy1     -0.0071976  0.0068265  -1.054 0.294609    \n",
       "CEFR2:accuracy1      0.0036192  0.0056337   0.642 0.522270    \n",
       "sophhigh:accuracy1  -0.0015980  0.0074813  -0.214 0.831349    \n",
       "sophhigh:soph_type1  0.0172807  0.0069339   2.492 0.014569 *  \n",
       "---\n",
       "Signif. codes:  0 ‘***’ 0.001 ‘**’ 0.01 ‘*’ 0.05 ‘.’ 0.1 ‘ ’ 1\n",
       "\n",
       "Residual standard error: 0.03326 on 88 degrees of freedom\n",
       "  (24 observations deleted due to missingness)\n",
       "Multiple R-squared:  0.9994,\tAdjusted R-squared:  0.9993 \n",
       "F-statistic: 1.02e+04 on 15 and 88 DF,  p-value: < 2.2e-16\n"
      ]
     },
     "metadata": {},
     "output_type": "display_data"
    },
    {
     "name": "stderr",
     "output_type": "stream",
     "text": [
      "Argument 'df_method' is deprecated. Please use 'ci_method' instead.\n",
      "\n"
     ]
    }
   ],
   "source": [
    "# Summary of model\n",
    "\n",
    "summary(HOL_exp)\n",
    "tab_model(HOL_exp)"
   ]
  },
  {
   "cell_type": "markdown",
   "metadata": {},
   "source": [
    "### Post-hoc analyses (regressions)\n",
    "\n",
    "Because there is no soph_type for low soph, it is also necessary to create a separate model without soph_type, otherwise there is not contrast involving low soph."
   ]
  },
  {
   "cell_type": "code",
   "execution_count": 41,
   "metadata": {},
   "outputs": [],
   "source": [
    "# Create HOL experimental model v2 without soph_type\n",
    "\n",
    "HOL_exp2 <- lm(HOL_fair ~ CEFR + TR_fair + CC_fair + LR_fair + GRA_fair + soph + accuracy +\n",
    "             CEFR:soph + CEFR:accuracy + soph:accuracy, data = ratings)"
   ]
  },
  {
   "cell_type": "markdown",
   "metadata": {},
   "source": [
    "#### Sophistication post-hoc analysis"
   ]
  },
  {
   "cell_type": "code",
   "execution_count": 42,
   "metadata": {},
   "outputs": [
    {
     "name": "stderr",
     "output_type": "stream",
     "text": [
      "NOTE: Results may be misleading due to involvement in interactions\n",
      "\n"
     ]
    },
    {
     "data": {
      "text/plain": [
       " contrast  estimate      SE  df t.ratio p.value\n",
       " midvslow   0.02177 0.00901 110   2.417  0.0510\n",
       " highvslow  0.03150 0.00858 110   3.673  0.0011\n",
       " highvsmid  0.00973 0.00694 110   1.402  0.4150\n",
       "\n",
       "Results are averaged over the levels of: CEFR, accuracy \n",
       "P value adjustment: sidak method for 3 tests "
      ]
     },
     "metadata": {},
     "output_type": "display_data"
    }
   ],
   "source": [
    "# Create contrasts\n",
    "HOL_exp_soph <- emmeans(HOL_exp2, \"soph\", data=ratings)\n",
    "\n",
    "# Specify the levels\n",
    "midvslow <- c(-1, 1, 0) # compare mean in mid to mean in low, ignore high\n",
    "highvslow <- c(-1, 0, 1) # compare mean in high to mean in low, ignore mid\n",
    "highvsmid <- c(0, -1, 1) # compare mean in high to mean in mid, ignore low\n",
    "\n",
    "# Contrast the levels\n",
    "contrast(HOL_exp_soph, method=list(\"midvslow\"=midvslow,\"highvslow\"=highvslow,\"highvsmid\"=highvsmid),adjust=\"sidak\")"
   ]
  },
  {
   "cell_type": "markdown",
   "metadata": {},
   "source": [
    "#### Sophistication type post-hoc analysis"
   ]
  },
  {
   "cell_type": "code",
   "execution_count": 43,
   "metadata": {},
   "outputs": [
    {
     "name": "stderr",
     "output_type": "stream",
     "text": [
      "NOTE: Results may be misleading due to involvement in interactions\n",
      "\n"
     ]
    },
    {
     "data": {
      "text/plain": [
       " contrast      estimate      SE df t.ratio p.value\n",
       " col_vs_noncol   0.0135 0.00878 88   1.540  0.1270\n",
       "\n",
       "Results are averaged over the levels of: CEFR, soph, accuracy "
      ]
     },
     "metadata": {},
     "output_type": "display_data"
    }
   ],
   "source": [
    "# Create contrasts\n",
    "HOL_exp_soph_type <- emmeans(HOL_exp, \"soph_type\", data=ratings)\n",
    "\n",
    "# Specify the levels\n",
    "col_vs_noncol <- c(-1, 1) # compare mean in col to mean in non_col\n",
    "\n",
    "# Contrast the levels\n",
    "contrast(HOL_exp_soph_type, method=list(\"col_vs_noncol\"=col_vs_noncol),adjust=\"sidak\")"
   ]
  },
  {
   "cell_type": "markdown",
   "metadata": {},
   "source": [
    "#### Accuracy post-hoc analysis"
   ]
  },
  {
   "cell_type": "code",
   "execution_count": 44,
   "metadata": {},
   "outputs": [
    {
     "name": "stderr",
     "output_type": "stream",
     "text": [
      "NOTE: Results may be misleading due to involvement in interactions\n",
      "\n"
     ]
    },
    {
     "data": {
      "text/plain": [
       " contrast          estimate      SE df t.ratio p.value\n",
       " highacc_vs_lowacc 0.000972 0.00618 89   0.157  0.8754\n",
       "\n",
       "Results are averaged over the levels of: CEFR, soph, soph_type "
      ]
     },
     "metadata": {},
     "output_type": "display_data"
    }
   ],
   "source": [
    "# Create contrasts\n",
    "HOL_exp_accuracy <- emmeans(LR_exp, \"accuracy\", data=ratings)\n",
    "\n",
    "# Specify the levels\n",
    "highacc_vs_lowacc <- c(-1, 1) # compare mean in col to mean in non_col\n",
    "\n",
    "# Contrast the levels\n",
    "contrast(HOL_exp_accuracy, method=list(\"highacc_vs_lowacc\"=highacc_vs_lowacc),adjust=\"sidak\")"
   ]
  },
  {
   "cell_type": "markdown",
   "metadata": {},
   "source": [
    "## Survey comments"
   ]
  },
  {
   "cell_type": "code",
   "execution_count": 45,
   "metadata": {},
   "outputs": [],
   "source": [
    "# Tag counts from Python notebook 11\n",
    "\n",
    "Topics <- c('accuracy','error gravity','sophistication','range','preposition','spelling','accuracy (word choice)',\n",
    "            'word formation','accuracy (collocation)', 'appropriacy','formulaic sequence','coherence and cohesion','style',\n",
    "            'collocation','fluency')\n",
    "\n",
    "Frequency <- c(45,16,60,44,4,12,3,8,7,38,25,3,10,38,2)"
   ]
  },
  {
   "cell_type": "code",
   "execution_count": 46,
   "metadata": {},
   "outputs": [
    {
     "data": {
      "text/html": [
       "<table class=\"dataframe\">\n",
       "<caption>A data.frame: 6 × 2</caption>\n",
       "<thead>\n",
       "\t<tr><th></th><th scope=col>Topics</th><th scope=col>Frequency</th></tr>\n",
       "\t<tr><th></th><th scope=col>&lt;chr&gt;</th><th scope=col>&lt;dbl&gt;</th></tr>\n",
       "</thead>\n",
       "<tbody>\n",
       "\t<tr><th scope=row>1</th><td>sophistication    </td><td>60</td></tr>\n",
       "\t<tr><th scope=row>2</th><td>accuracy          </td><td>45</td></tr>\n",
       "\t<tr><th scope=row>3</th><td>range             </td><td>44</td></tr>\n",
       "\t<tr><th scope=row>4</th><td>appropriacy       </td><td>38</td></tr>\n",
       "\t<tr><th scope=row>5</th><td>collocation       </td><td>38</td></tr>\n",
       "\t<tr><th scope=row>6</th><td>formulaic sequence</td><td>25</td></tr>\n",
       "</tbody>\n",
       "</table>\n"
      ],
      "text/latex": [
       "A data.frame: 6 × 2\n",
       "\\begin{tabular}{r|ll}\n",
       "  & Topics & Frequency\\\\\n",
       "  & <chr> & <dbl>\\\\\n",
       "\\hline\n",
       "\t1 & sophistication     & 60\\\\\n",
       "\t2 & accuracy           & 45\\\\\n",
       "\t3 & range              & 44\\\\\n",
       "\t4 & appropriacy        & 38\\\\\n",
       "\t5 & collocation        & 38\\\\\n",
       "\t6 & formulaic sequence & 25\\\\\n",
       "\\end{tabular}\n"
      ],
      "text/markdown": [
       "\n",
       "A data.frame: 6 × 2\n",
       "\n",
       "| <!--/--> | Topics &lt;chr&gt; | Frequency &lt;dbl&gt; |\n",
       "|---|---|---|\n",
       "| 1 | sophistication     | 60 |\n",
       "| 2 | accuracy           | 45 |\n",
       "| 3 | range              | 44 |\n",
       "| 4 | appropriacy        | 38 |\n",
       "| 5 | collocation        | 38 |\n",
       "| 6 | formulaic sequence | 25 |\n",
       "\n"
      ],
      "text/plain": [
       "  Topics             Frequency\n",
       "1 sophistication     60       \n",
       "2 accuracy           45       \n",
       "3 range              44       \n",
       "4 appropriacy        38       \n",
       "5 collocation        38       \n",
       "6 formulaic sequence 25       "
      ]
     },
     "metadata": {},
     "output_type": "display_data"
    }
   ],
   "source": [
    "# Create dataframe\n",
    "\n",
    "comments <- data.frame(Topics, Frequency)\n",
    "comments$Frequency <- sapply(comments$Frequency, as.numeric)\n",
    "comments <- comments[order(-Frequency),]\n",
    "rownames(comments) <- NULL\n",
    "head(comments)"
   ]
  },
  {
   "cell_type": "code",
   "execution_count": 47,
   "metadata": {},
   "outputs": [
    {
     "data": {
      "image/png": "[encoded data removed]",
      "text/plain": [
       "plot without title"
      ]
     },
     "metadata": {
      "image/png": {
       "height": 420,
       "width": 420
      }
     },
     "output_type": "display_data"
    }
   ],
   "source": [
    "# Create plot (Figure 7 of dissertation)\n",
    "\n",
    "ggplot(comments, aes(x=reorder(Topics,Frequency),y=Frequency)) +\n",
    "geom_bar(position=\"dodge\", stat = \"summary\", fun = \"mean\", width = 0.8,fill = \"dodgerblue3\") +\n",
    "labs(x =\"Comment topics\", y = \"Number of comments\") +\n",
    "theme_bw(base_size=15) + \n",
    "geom_text(aes(label=Frequency), position=position_dodge(width=0.9), vjust=.5, hjust=-.5) +\n",
    "scale_y_continuous(limits=c(0, 65), expand = c(0,0)) +\n",
    "coord_flip()"
   ]
  },
  {
   "cell_type": "markdown",
   "metadata": {},
   "source": [
    "[Back to top](#Analyzing-survey-data)"
   ]
  }
 ],
 "metadata": {
  "kernelspec": {
   "display_name": "R",
   "language": "R",
   "name": "ir"
  },
  "language_info": {
   "codemirror_mode": "r",
   "file_extension": ".r",
   "mimetype": "text/x-r-source",
   "name": "R",
   "pygments_lexer": "r",
   "version": "4.1.1"
  }
 },
 "nbformat": 4,
 "nbformat_minor": 4
}
