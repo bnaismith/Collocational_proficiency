{
 "cells": [
  {
   "cell_type": "markdown",
   "metadata": {},
   "source": [
    "# Identifying collocations\n",
    "\n",
    "<br>\n",
    "\n",
    "**Language: Python**\n",
    "\n",
    "This notebook looks at frequency statistics from COCA to identify potential collocations to change in the original and normalized text versions. See dissertation section 6.1.1.1.\n",
    "\n",
    "**Notebook contents:**\n",
    "1. [Initial setup](#1.-Initial-setup)\n",
    "2. [Find collocations](#2.-Find-collocations)"
   ]
  },
  {
   "cell_type": "markdown",
   "metadata": {},
   "source": [
    "## 1. Initial setup"
   ]
  },
  {
   "cell_type": "code",
   "execution_count": 1,
   "metadata": {},
   "outputs": [],
   "source": [
    "# Import necessary modules\n",
    "\n",
    "import pandas as pd\n",
    "import pprint\n",
    "from IPython.core.interactiveshell import InteractiveShell\n",
    "import joblib"
   ]
  },
  {
   "cell_type": "code",
   "execution_count": 2,
   "metadata": {},
   "outputs": [
    {
     "name": "stdout",
     "output_type": "stream",
     "text": [
      "Pretty printing has been turned OFF\n"
     ]
    }
   ],
   "source": [
    "# Set preferred notebook format\n",
    "\n",
    "%pprint # Turn off pretty printing\n",
    "InteractiveShell.ast_node_interactivity = \"all\" # Show all output, not just last item\n",
    "pd.set_option('display.max_columns', 999) # Allow viewing of all columns"
   ]
  },
  {
   "cell_type": "markdown",
   "metadata": {},
   "source": [
    "**Note:** As described in the [README.md]('../README.md'), The frequency information from COCA referenced here is not freely available but can be purchased at https://corpus.byu.edu/coca. Without this data you will be able to see a few rows of these dataframes, but will not be able to run the code yourself."
   ]
  },
  {
   "cell_type": "code",
   "execution_count": 3,
   "metadata": {},
   "outputs": [
    {
     "data": {
      "text/html": [
       "<div>\n",
       "<style scoped>\n",
       "    .dataframe tbody tr th:only-of-type {\n",
       "        vertical-align: middle;\n",
       "    }\n",
       "\n",
       "    .dataframe tbody tr th {\n",
       "        vertical-align: top;\n",
       "    }\n",
       "\n",
       "    .dataframe thead th {\n",
       "        text-align: right;\n",
       "    }\n",
       "</style>\n",
       "<table border=\"1\" class=\"dataframe\">\n",
       "  <thead>\n",
       "    <tr style=\"text-align: right;\">\n",
       "      <th></th>\n",
       "      <th>freq</th>\n",
       "      <th>MI</th>\n",
       "      <th>collocation</th>\n",
       "      <th>tscore</th>\n",
       "    </tr>\n",
       "  </thead>\n",
       "  <tbody>\n",
       "    <tr>\n",
       "      <th>0</th>\n",
       "      <td>2202969</td>\n",
       "      <td>1.85</td>\n",
       "      <td>((there, e), (be, v))</td>\n",
       "      <td>1435.82</td>\n",
       "    </tr>\n",
       "    <tr>\n",
       "      <th>1</th>\n",
       "      <td>1016384</td>\n",
       "      <td>1.67</td>\n",
       "      <td>((what, d), (do, v))</td>\n",
       "      <td>973.52</td>\n",
       "    </tr>\n",
       "    <tr>\n",
       "      <th>2</th>\n",
       "      <td>714570</td>\n",
       "      <td>1.62</td>\n",
       "      <td>((know, v), (do, v))</td>\n",
       "      <td>815.36</td>\n",
       "    </tr>\n",
       "    <tr>\n",
       "      <th>3</th>\n",
       "      <td>714292</td>\n",
       "      <td>1.62</td>\n",
       "      <td>((do, v), (know, v))</td>\n",
       "      <td>815.19</td>\n",
       "    </tr>\n",
       "    <tr>\n",
       "      <th>4</th>\n",
       "      <td>661399</td>\n",
       "      <td>2.24</td>\n",
       "      <td>((out, i), (of, i))</td>\n",
       "      <td>793.01</td>\n",
       "    </tr>\n",
       "  </tbody>\n",
       "</table>\n",
       "</div>"
      ],
      "text/plain": [
       "      freq    MI            collocation   tscore\n",
       "0  2202969  1.85  ((there, e), (be, v))  1435.82\n",
       "1  1016384  1.67   ((what, d), (do, v))   973.52\n",
       "2   714570  1.62   ((know, v), (do, v))   815.36\n",
       "3   714292  1.62   ((do, v), (know, v))   815.19\n",
       "4   661399  2.24    ((out, i), (of, i))   793.01"
      ]
     },
     "execution_count": 3,
     "metadata": {},
     "output_type": "execute_result"
    }
   ],
   "source": [
    "# Load COCA collocation dataframe\n",
    "\n",
    "col_df = joblib.load('../../COCA_data/COCA_2020_collocation_df.pkl')\n",
    "col_df.head()"
   ]
  },
  {
   "cell_type": "code",
   "execution_count": 4,
   "metadata": {},
   "outputs": [],
   "source": [
    "# Load texts for analysis (Original and Normalized)\n",
    "\n",
    "B1_df = joblib.load('../docs/B1_cols.pkl')\n",
    "B2_df = joblib.load('../docs/B2_cols.pkl')\n",
    "C1_df = joblib.load('../docs/C1_cols.pkl')"
   ]
  },
  {
   "cell_type": "code",
   "execution_count": 5,
   "metadata": {},
   "outputs": [
    {
     "data": {
      "text/html": [
       "<div>\n",
       "<style scoped>\n",
       "    .dataframe tbody tr th:only-of-type {\n",
       "        vertical-align: middle;\n",
       "    }\n",
       "\n",
       "    .dataframe tbody tr th {\n",
       "        vertical-align: top;\n",
       "    }\n",
       "\n",
       "    .dataframe thead th {\n",
       "        text-align: right;\n",
       "    }\n",
       "</style>\n",
       "<table border=\"1\" class=\"dataframe\">\n",
       "  <thead>\n",
       "    <tr style=\"text-align: right;\">\n",
       "      <th></th>\n",
       "      <th>text_id</th>\n",
       "      <th>lemmas_CLAWS</th>\n",
       "      <th>possible_cols</th>\n",
       "    </tr>\n",
       "  </thead>\n",
       "  <tbody>\n",
       "    <tr>\n",
       "      <th>0</th>\n",
       "      <td>B1_orig</td>\n",
       "      <td>[(I, p), (disagree, v), (that, d), (point, n),...</td>\n",
       "      <td>[((i, p), (disagree, v)), ((disagree, v), (tha...</td>\n",
       "    </tr>\n",
       "    <tr>\n",
       "      <th>1</th>\n",
       "      <td>B1_norm</td>\n",
       "      <td>[(I, p), (disagree, v), (that, d), (point, n),...</td>\n",
       "      <td>[((i, p), (disagree, v)), ((disagree, v), (tha...</td>\n",
       "    </tr>\n",
       "    <tr>\n",
       "      <th>2</th>\n",
       "      <td>B2_orig</td>\n",
       "      <td>[(I, p), (greatly, r), (support, v), (the, a),...</td>\n",
       "      <td>[((i, p), (greatly, r)), ((greatly, r), (suppo...</td>\n",
       "    </tr>\n",
       "    <tr>\n",
       "      <th>3</th>\n",
       "      <td>B2_norm</td>\n",
       "      <td>[(I, p), (greatly, r), (support, v), (the, a),...</td>\n",
       "      <td>[((i, p), (greatly, r)), ((greatly, r), (suppo...</td>\n",
       "    </tr>\n",
       "    <tr>\n",
       "      <th>4</th>\n",
       "      <td>C1_orig</td>\n",
       "      <td>[(I, p), (do, v), (agree, v), (to, i), (the, a...</td>\n",
       "      <td>[((i, p), (do, v)), ((do, v), (agree, v)), ((a...</td>\n",
       "    </tr>\n",
       "    <tr>\n",
       "      <th>5</th>\n",
       "      <td>C1_norm</td>\n",
       "      <td>[(I, p), (do, v), (agree, v), (to, i), (the, a...</td>\n",
       "      <td>[((i, p), (do, v)), ((do, v), (agree, v)), ((a...</td>\n",
       "    </tr>\n",
       "  </tbody>\n",
       "</table>\n",
       "</div>"
      ],
      "text/plain": [
       "   text_id                                       lemmas_CLAWS  \\\n",
       "0  B1_orig  [(I, p), (disagree, v), (that, d), (point, n),...   \n",
       "1  B1_norm  [(I, p), (disagree, v), (that, d), (point, n),...   \n",
       "2  B2_orig  [(I, p), (greatly, r), (support, v), (the, a),...   \n",
       "3  B2_norm  [(I, p), (greatly, r), (support, v), (the, a),...   \n",
       "4  C1_orig  [(I, p), (do, v), (agree, v), (to, i), (the, a...   \n",
       "5  C1_norm  [(I, p), (do, v), (agree, v), (to, i), (the, a...   \n",
       "\n",
       "                                       possible_cols  \n",
       "0  [((i, p), (disagree, v)), ((disagree, v), (tha...  \n",
       "1  [((i, p), (disagree, v)), ((disagree, v), (tha...  \n",
       "2  [((i, p), (greatly, r)), ((greatly, r), (suppo...  \n",
       "3  [((i, p), (greatly, r)), ((greatly, r), (suppo...  \n",
       "4  [((i, p), (do, v)), ((do, v), (agree, v)), ((a...  \n",
       "5  [((i, p), (do, v)), ((do, v), (agree, v)), ((a...  "
      ]
     },
     "execution_count": 5,
     "metadata": {},
     "output_type": "execute_result"
    }
   ],
   "source": [
    "# Combine the three dfs\n",
    "\n",
    "texts = pd.concat([B1_df, B2_df, C1_df]).reset_index(drop=True)\n",
    "texts"
   ]
  },
  {
   "cell_type": "markdown",
   "metadata": {},
   "source": [
    "## 2. Find collocations"
   ]
  },
  {
   "cell_type": "code",
   "execution_count": 6,
   "metadata": {},
   "outputs": [
    {
     "data": {
      "text/plain": [
       "1992910"
      ]
     },
     "execution_count": 6,
     "metadata": {},
     "output_type": "execute_result"
    }
   ],
   "source": [
    "# Create set of all collocations in COCA\n",
    "\n",
    "all_cols = set(col_df.collocation.to_list())\n",
    "len(all_cols)"
   ]
  },
  {
   "cell_type": "code",
   "execution_count": 7,
   "metadata": {},
   "outputs": [
    {
     "data": {
      "text/html": [
       "<div>\n",
       "<style scoped>\n",
       "    .dataframe tbody tr th:only-of-type {\n",
       "        vertical-align: middle;\n",
       "    }\n",
       "\n",
       "    .dataframe tbody tr th {\n",
       "        vertical-align: top;\n",
       "    }\n",
       "\n",
       "    .dataframe thead th {\n",
       "        text-align: right;\n",
       "    }\n",
       "</style>\n",
       "<table border=\"1\" class=\"dataframe\">\n",
       "  <thead>\n",
       "    <tr style=\"text-align: right;\">\n",
       "      <th></th>\n",
       "      <th>text_id</th>\n",
       "      <th>lemmas_CLAWS</th>\n",
       "      <th>possible_cols</th>\n",
       "      <th>cols</th>\n",
       "    </tr>\n",
       "  </thead>\n",
       "  <tbody>\n",
       "    <tr>\n",
       "      <th>0</th>\n",
       "      <td>B1_orig</td>\n",
       "      <td>[(I, p), (disagree, v), (that, d), (point, n),...</td>\n",
       "      <td>[((i, p), (disagree, v)), ((disagree, v), (tha...</td>\n",
       "      <td>[((our, a), (country, n)), ((their, a), (child...</td>\n",
       "    </tr>\n",
       "    <tr>\n",
       "      <th>1</th>\n",
       "      <td>B1_norm</td>\n",
       "      <td>[(I, p), (disagree, v), (that, d), (point, n),...</td>\n",
       "      <td>[((i, p), (disagree, v)), ((disagree, v), (tha...</td>\n",
       "      <td>[((our, a), (country, n)), ((their, a), (child...</td>\n",
       "    </tr>\n",
       "    <tr>\n",
       "      <th>2</th>\n",
       "      <td>B2_orig</td>\n",
       "      <td>[(I, p), (greatly, r), (support, v), (the, a),...</td>\n",
       "      <td>[((i, p), (greatly, r)), ((greatly, r), (suppo...</td>\n",
       "      <td>[((because, i), (of, i)), ((such, i), (as, i))...</td>\n",
       "    </tr>\n",
       "    <tr>\n",
       "      <th>3</th>\n",
       "      <td>B2_norm</td>\n",
       "      <td>[(I, p), (greatly, r), (support, v), (the, a),...</td>\n",
       "      <td>[((i, p), (greatly, r)), ((greatly, r), (suppo...</td>\n",
       "      <td>[((such, i), (as, i)), ((hard, j), (work, n)),...</td>\n",
       "    </tr>\n",
       "    <tr>\n",
       "      <th>4</th>\n",
       "      <td>C1_orig</td>\n",
       "      <td>[(I, p), (do, v), (agree, v), (to, i), (the, a...</td>\n",
       "      <td>[((i, p), (do, v)), ((do, v), (agree, v)), ((a...</td>\n",
       "      <td>[((expose, v), (to, i)), ((life, n), (eg, r)),...</td>\n",
       "    </tr>\n",
       "    <tr>\n",
       "      <th>5</th>\n",
       "      <td>C1_norm</td>\n",
       "      <td>[(I, p), (do, v), (agree, v), (to, i), (the, a...</td>\n",
       "      <td>[((i, p), (do, v)), ((do, v), (agree, v)), ((a...</td>\n",
       "      <td>[((expose, v), (to, i)), ((life, n), (eg, r)),...</td>\n",
       "    </tr>\n",
       "  </tbody>\n",
       "</table>\n",
       "</div>"
      ],
      "text/plain": [
       "   text_id                                       lemmas_CLAWS  \\\n",
       "0  B1_orig  [(I, p), (disagree, v), (that, d), (point, n),...   \n",
       "1  B1_norm  [(I, p), (disagree, v), (that, d), (point, n),...   \n",
       "2  B2_orig  [(I, p), (greatly, r), (support, v), (the, a),...   \n",
       "3  B2_norm  [(I, p), (greatly, r), (support, v), (the, a),...   \n",
       "4  C1_orig  [(I, p), (do, v), (agree, v), (to, i), (the, a...   \n",
       "5  C1_norm  [(I, p), (do, v), (agree, v), (to, i), (the, a...   \n",
       "\n",
       "                                       possible_cols  \\\n",
       "0  [((i, p), (disagree, v)), ((disagree, v), (tha...   \n",
       "1  [((i, p), (disagree, v)), ((disagree, v), (tha...   \n",
       "2  [((i, p), (greatly, r)), ((greatly, r), (suppo...   \n",
       "3  [((i, p), (greatly, r)), ((greatly, r), (suppo...   \n",
       "4  [((i, p), (do, v)), ((do, v), (agree, v)), ((a...   \n",
       "5  [((i, p), (do, v)), ((do, v), (agree, v)), ((a...   \n",
       "\n",
       "                                                cols  \n",
       "0  [((our, a), (country, n)), ((their, a), (child...  \n",
       "1  [((our, a), (country, n)), ((their, a), (child...  \n",
       "2  [((because, i), (of, i)), ((such, i), (as, i))...  \n",
       "3  [((such, i), (as, i)), ((hard, j), (work, n)),...  \n",
       "4  [((expose, v), (to, i)), ((life, n), (eg, r)),...  \n",
       "5  [((expose, v), (to, i)), ((life, n), (eg, r)),...  "
      ]
     },
     "execution_count": 7,
     "metadata": {},
     "output_type": "execute_result"
    }
   ],
   "source": [
    "# Create column of cols in each text\n",
    "\n",
    "texts['cols'] = texts.possible_cols.apply(lambda row: [x for x in row if x in all_cols])\n",
    "texts"
   ]
  },
  {
   "cell_type": "markdown",
   "metadata": {},
   "source": [
    "### Prompt collocations"
   ]
  },
  {
   "cell_type": "code",
   "execution_count": 8,
   "metadata": {},
   "outputs": [
    {
     "data": {
      "text/plain": [
       "'children who are brought up in families that do not have large amounts of money are better prepared to deal with the problems of adult life than children brought up by wealthy parents to what extent do you agree or disagree with this opinion'"
      ]
     },
     "execution_count": 8,
     "metadata": {},
     "output_type": "execute_result"
    }
   ],
   "source": [
    "# Prepare prompt text\n",
    "\n",
    "prompt = \"Children who are brought up in families that do not have large amounts of money are better prepared to deal with the problems of adult life than children brought up by wealthy parents. To what extent do you agree or disagree with this opinion?\"\n",
    "prompt = prompt.lower().replace('.','').replace('?','')\n",
    "prompt"
   ]
  },
  {
   "cell_type": "code",
   "execution_count": 9,
   "metadata": {},
   "outputs": [
    {
     "data": {
      "text/plain": [
       "[('children', 'n'), ('who', 'p'), ('are', 'v'), ('brought', 'v'), ('up', 'r'), ('in', 'i'), ('families', 'n'), ('that', 'c'), ('do', 'v'), ('not', 'x'), ('have', 'v'), ('large', 'j'), ('amounts', 'n'), ('of', 'i'), ('money', 'n'), ('are', 'v'), ('better', 'r'), ('prepared', 'v'), ('to', 't'), ('deal', 'v'), ('with', 'i'), ('the', 'a'), ('problems', 'n'), ('of', 'i'), ('adult', 'n'), ('life', 'n'), ('than', 'c'), ('children', 'n'), ('brought', 'v'), ('up', 'r'), ('by', 'i'), ('wealthy', 'j'), ('parents', 'n'), ('to', 'i'), ('what', 'd'), ('extent', 'n'), ('do', 'v'), ('you', 'p'), ('agree', 'v'), ('or', 'c'), ('disagree', 'v'), ('with', 'i'), ('this', 'd'), ('opinion', 'n')]"
      ]
     },
     "execution_count": 9,
     "metadata": {},
     "output_type": "execute_result"
    }
   ],
   "source": [
    "# Tag with CLAWS7 at http://ucrel-api.lancaster.ac.uk/claws/free.html\n",
    "\n",
    "prompt_POS = 'children_NN2 who_PNQS are_VBR brought_VVN up_RP in_II families_NN2 that_CST do_VD0 not_XX have_VHI large_JJ amounts_NN2 of_IO money_NN1 are_VBR better_RRR prepared_VVN to_TO deal_VVI with_IW the_AT problems_NN2 of_IO adult_NN1 life_NN1 than_CSN children_NN2 brought_VVN up_RP by_II wealthy_JJ parents_NN2 to_II what_DDQ extent_NN1 do_VD0 you_PPY agree_VVI or_CC disagree_VVI with_IW this_DD1 opinion_NN1'\n",
    "prompt_POS = [x.split('_') for x in prompt_POS.split(' ')]\n",
    "prompt_POS = [(x[0],x[1][0].lower()) for x in prompt_POS]\n",
    "prompt_POS"
   ]
  },
  {
   "cell_type": "code",
   "execution_count": 10,
   "metadata": {},
   "outputs": [],
   "source": [
    "# Manually lemmatize due to short length\n",
    "\n",
    "prompt_POS_lem = [('child', 'n'), ('who', 'p'), ('be', 'v'), ('bring', 'v'), ('up', 'r'), ('in', 'i'), ('family', 'n'), ('that', 'c'), ('do', 'v'), ('not', 'x'), ('have', 'v'), ('large', 'j'), ('amount', 'n'), ('of', 'i'), ('money', 'n'), ('be', 'v'), ('better', 'r'), ('prepare', 'v'), ('to', 't'), ('deal', 'v'), ('with', 'i'), ('the', 'a'), ('problem', 'n'), ('of', 'i'), ('adult', 'n'), ('life', 'n'), ('than', 'c'), ('child', 'n'), ('bring', 'v'), ('up', 'r'), ('by', 'i'), ('wealthy', 'j'), ('parent', 'n'), ('to', 'i'), ('what', 'd'), ('extent', 'n'), ('do', 'v'), ('you', 'p'), ('agree', 'v'), ('or', 'c'), ('disagree', 'v'), ('with', 'i'), ('this', 'd'), ('opinion', 'n')]"
   ]
  },
  {
   "cell_type": "code",
   "execution_count": 11,
   "metadata": {},
   "outputs": [],
   "source": [
    "# Extract potential collocations in span 4\n",
    "\n",
    "def find_cols(lemma_list):\n",
    "    col_list = list(zip(lemma_list,lemma_list[1:]))+list(zip(lemma_list,lemma_list[2:]))\\\n",
    "    +list(zip(lemma_list,lemma_list[3:]))+list(zip(lemma_list,lemma_list[4:]))\n",
    "    return col_list\n",
    "\n",
    "prompt_cols = find_cols(prompt_POS_lem)"
   ]
  },
  {
   "cell_type": "code",
   "execution_count": 12,
   "metadata": {},
   "outputs": [],
   "source": [
    "# Remove prompts cols from dataframe cols\n",
    "\n",
    "texts.possible_cols = texts.possible_cols.apply(lambda row: [x for x in row if x not in prompt_cols])"
   ]
  },
  {
   "cell_type": "markdown",
   "metadata": {},
   "source": [
    "### Investigate the automated extracted collocations"
   ]
  },
  {
   "cell_type": "code",
   "execution_count": 13,
   "metadata": {},
   "outputs": [
    {
     "name": "stdout",
     "output_type": "stream",
     "text": [
      "Pretty printing has been turned ON\n"
     ]
    },
    {
     "data": {
      "text/plain": [
       "12"
      ]
     },
     "execution_count": 13,
     "metadata": {},
     "output_type": "execute_result"
    },
    {
     "data": {
      "text/plain": [
       "{(('age', 'n'), ('child', 'n')),\n",
       " (('around', 'i'), ('country', 'n')),\n",
       " (('child', 'n'), ('age', 'n')),\n",
       " (('child', 'n'), ('behavior', 'n')),\n",
       " (('child', 'n'), ('family', 'n')),\n",
       " (('money', 'n'), ('buy', 'v')),\n",
       " (('money', 'n'), ('money', 'n')),\n",
       " (('other', 'j'), ('hand', 'n')),\n",
       " (('our', 'a'), ('country', 'n')),\n",
       " (('pocket', 'n'), ('money', 'n')),\n",
       " (('their', 'a'), ('child', 'n')),\n",
       " (('their', 'a'), ('parent', 'n'))}"
      ]
     },
     "execution_count": 13,
     "metadata": {},
     "output_type": "execute_result"
    }
   ],
   "source": [
    "%pprint\n",
    "\n",
    "# B1 original\n",
    "\n",
    "len(set(texts.iloc[0,3]))\n",
    "set(texts.iloc[0,3])"
   ]
  },
  {
   "cell_type": "code",
   "execution_count": 14,
   "metadata": {},
   "outputs": [
    {
     "data": {
      "text/plain": [
       "{(('age', 'n'), ('child', 'n')),\n",
       " (('around', 'i'), ('country', 'n')),\n",
       " (('child', 'n'), ('age', 'n')),\n",
       " (('child', 'n'), ('behavior', 'n')),\n",
       " (('child', 'n'), ('family', 'n')),\n",
       " (('money', 'n'), ('buy', 'v')),\n",
       " (('money', 'n'), ('money', 'n')),\n",
       " (('other', 'j'), ('hand', 'n')),\n",
       " (('pocket', 'n'), ('money', 'n'))}"
      ]
     },
     "execution_count": 14,
     "metadata": {},
     "output_type": "execute_result"
    }
   ],
   "source": [
    "# And if we consider only ones made up of n, v, adj, adv, or preps\n",
    "\n",
    "lexical = ['n','v','r','j','i']\n",
    "\n",
    "set([x for x in texts.iloc[0,3] if x[0][1] in lexical and x[1][1] in lexical])"
   ]
  },
  {
   "cell_type": "code",
   "execution_count": 15,
   "metadata": {},
   "outputs": [
    {
     "data": {
      "text/plain": [
       "12"
      ]
     },
     "execution_count": 15,
     "metadata": {},
     "output_type": "execute_result"
    },
    {
     "data": {
      "text/plain": [
       "{(('around', 'i'), ('country', 'n')),\n",
       " (('as', 'i'), ('journalist', 'n')),\n",
       " (('child', 'n'), ('age', 'n')),\n",
       " (('child', 'n'), ('family', 'n')),\n",
       " (('disagree', 'v'), ('with', 'i')),\n",
       " (('money', 'n'), ('buy', 'v')),\n",
       " (('other', 'j'), ('hand', 'n')),\n",
       " (('our', 'a'), ('country', 'n')),\n",
       " (('pocket', 'n'), ('money', 'n')),\n",
       " (('positive', 'j'), ('behavior', 'n')),\n",
       " (('their', 'a'), ('child', 'n')),\n",
       " (('their', 'a'), ('parent', 'n'))}"
      ]
     },
     "execution_count": 15,
     "metadata": {},
     "output_type": "execute_result"
    }
   ],
   "source": [
    "# B1 normalized\n",
    "\n",
    "len(set(texts.iloc[1,3]))\n",
    "set(texts.iloc[1,3])"
   ]
  },
  {
   "cell_type": "code",
   "execution_count": 16,
   "metadata": {},
   "outputs": [
    {
     "data": {
      "text/plain": [
       "40"
      ]
     },
     "execution_count": 16,
     "metadata": {},
     "output_type": "execute_result"
    },
    {
     "data": {
      "text/plain": [
       "{(('authentic', 'j'), ('self', 'n')),\n",
       " (('basic', 'j'), ('necessity', 'n')),\n",
       " (('because', 'i'), ('of', 'i')),\n",
       " (('blind', 'v'), ('by', 'i')),\n",
       " (('buy', 'v'), ('car', 'n')),\n",
       " (('buy', 'v'), ('clothes', 'n')),\n",
       " (('buy', 'v'), ('expensive', 'j')),\n",
       " (('car', 'n'), ('expensive', 'j')),\n",
       " (('care', 'v'), ('about', 'i')),\n",
       " (('certain', 'j'), ('such', 'i')),\n",
       " (('child', 'n'), ('child', 'n')),\n",
       " (('child', 'n'), ('grow', 'v')),\n",
       " (('clothes', 'n'), ('toy', 'n')),\n",
       " (('commonly', 'r'), ('express', 'v')),\n",
       " (('do', 'v'), ('care', 'v')),\n",
       " (('do', 'v'), ('know', 'v')),\n",
       " (('expensive', 'j'), ('clothes', 'n')),\n",
       " (('expensive', 'j'), ('toy', 'n')),\n",
       " (('eye', 'n'), ('blind', 'v')),\n",
       " (('face', 'v'), ('problem', 'n')),\n",
       " (('family', 'n'), ('wealthy', 'j')),\n",
       " (('grow', 'v'), ('up', 'r')),\n",
       " (('hard', 'j'), ('work', 'n')),\n",
       " (('kind', 'n'), ('of', 'i')),\n",
       " (('know', 'v'), ('how', 'r')),\n",
       " (('make', 'v'), ('money', 'n')),\n",
       " (('money', 'n'), ('money', 'n')),\n",
       " (('money', 'n'), ('spending', 'n')),\n",
       " (('such', 'i'), ('as', 'i')),\n",
       " (('too', 'r'), ('busy', 'j')),\n",
       " (('too', 'r'), ('hard', 'r')),\n",
       " (('value', 'n'), ('value', 'n')),\n",
       " (('very', 'r'), ('hard', 'r')),\n",
       " (('very', 'r'), ('tough', 'j')),\n",
       " (('wealthy', 'j'), ('family', 'n')),\n",
       " (('work', 'v'), ('hard', 'r'))}"
      ]
     },
     "execution_count": 16,
     "metadata": {},
     "output_type": "execute_result"
    }
   ],
   "source": [
    "# B2 original\n",
    "\n",
    "len(set(texts.iloc[2,3]))\n",
    "set([x for x in texts.iloc[2,3] if x[0][1] in lexical and x[1][1] in lexical])"
   ]
  },
  {
   "cell_type": "code",
   "execution_count": 17,
   "metadata": {},
   "outputs": [
    {
     "data": {
      "text/plain": [
       "66"
      ]
     },
     "execution_count": 17,
     "metadata": {},
     "output_type": "execute_result"
    },
    {
     "data": {
      "text/plain": [
       "{(('adult', 'n'), ('eg', 'r')),\n",
       " (('age', 'n'), ('child', 'n')),\n",
       " (('age', 'n'), ('eg', 'r')),\n",
       " (('agree', 'v'), ('statement', 'n')),\n",
       " (('as', 'i'), ('example', 'n')),\n",
       " (('because', 'i'), ('of', 'i')),\n",
       " (('bill', 'n'), ('gate', 'n')),\n",
       " (('child', 'n'), ('eg', 'r')),\n",
       " (('child', 'n'), ('family', 'n')),\n",
       " (('child', 'n'), ('impoverished', 'j')),\n",
       " (('child', 'n'), ('parent', 'n')),\n",
       " (('child', 'n'), ('poor', 'j')),\n",
       " (('child', 'n'), ('teach', 'v')),\n",
       " (('childhood', 'n'), ('eg', 'r')),\n",
       " (('contribute', 'v'), ('to', 'i')),\n",
       " (('deal', 'v'), ('problem', 'n')),\n",
       " (('deal', 'v'), ('with', 'i')),\n",
       " (('direct', 'j'), ('contribution', 'n')),\n",
       " (('early', 'j'), ('age', 'n')),\n",
       " (('early', 'j'), ('eg', 'r')),\n",
       " (('economic', 'j'), ('situation', 'n')),\n",
       " (('economic', 'j'), ('social', 'j')),\n",
       " (('eg', 'r'), ('in', 'i')),\n",
       " (('eg', 'r'), ('learn', 'v')),\n",
       " (('eg', 'r'), ('may', 'v')),\n",
       " (('eg', 'r'), ('on', 'i')),\n",
       " (('eg', 'r'), ('work', 'v')),\n",
       " (('expose', 'v'), ('to', 'i')),\n",
       " (('family', 'n'), ('income', 'n')),\n",
       " (('feel', 'v'), ('cheated', 'j')),\n",
       " (('good', 'j'), ('example', 'n')),\n",
       " (('highly', 'r'), ('motivated', 'j')),\n",
       " (('impoverished', 'j'), ('background', 'n')),\n",
       " (('income', 'n'), ('family', 'n')),\n",
       " (('large', 'j'), ('organization', 'n')),\n",
       " (('life', 'n'), ('eg', 'r')),\n",
       " (('low', 'j'), ('income', 'n')),\n",
       " (('make', 'v'), ('contribution', 'n')),\n",
       " (('necessary', 'j'), ('skill', 'n')),\n",
       " (('necessary', 'j'), ('survival', 'n')),\n",
       " (('pocket', 'n'), ('money', 'n')),\n",
       " (('poor', 'j'), ('poor', 'j')),\n",
       " (('problem', 'n'), ('eg', 'r')),\n",
       " (('rob', 'v'), ('childhood', 'n')),\n",
       " (('role', 'n'), ('model', 'n')),\n",
       " (('sacrifice', 'v'), ('luxury', 'n')),\n",
       " (('sell', 'v'), ('market', 'n')),\n",
       " (('serve', 'v'), ('as', 'i')),\n",
       " (('set', 'v'), ('goal', 'n')),\n",
       " (('set', 'v'), ('up', 'r')),\n",
       " (('skill', 'n'), ('survival', 'n')),\n",
       " (('small', 'j'), ('group', 'n')),\n",
       " (('social', 'j'), ('environment', 'n')),\n",
       " (('sum', 'v'), ('up', 'r')),\n",
       " (('teach', 'v'), ('skill', 'n')),\n",
       " (('terms', 'i'), ('of', 'i')),\n",
       " (('weekend', 'n'), ('holiday', 'n')),\n",
       " (('world', 'n'), ('large', 'j')),\n",
       " (('world', 'n'), ('organization', 'n'))}"
      ]
     },
     "execution_count": 17,
     "metadata": {},
     "output_type": "execute_result"
    }
   ],
   "source": [
    "# C1 original and normalized (the same collocations)\n",
    "\n",
    "len(set(texts.iloc[4,3]))\n",
    "set([x for x in texts.iloc[4,3] if x[0][1] in lexical and x[1][1] in lexical])"
   ]
  },
  {
   "cell_type": "markdown",
   "metadata": {},
   "source": [
    "[Back to top](#Identifying-collocations)"
   ]
  }
 ],
 "metadata": {
  "kernelspec": {
   "display_name": "Python 3",
   "language": "python",
   "name": "python3"
  },
  "language_info": {
   "codemirror_mode": {
    "name": "ipython",
    "version": 3
   },
   "file_extension": ".py",
   "mimetype": "text/x-python",
   "name": "python",
   "nbconvert_exporter": "python",
   "pygments_lexer": "ipython3",
   "version": "3.8.8"
  }
 },
 "nbformat": 4,
 "nbformat_minor": 2
}
